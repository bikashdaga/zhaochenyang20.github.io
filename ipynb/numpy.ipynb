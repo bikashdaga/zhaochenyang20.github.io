{
 "cells": [
  {
   "cell_type": "markdown",
   "metadata": {},
   "source": [
    "# Numpy\n",
    "\n",
    "## Intro\n",
    "\n",
    "本课将介绍通过 Python 有效导入、存储和操作内存数据的主要技巧。这个主题非常广泛, 因为数据集的来源与格式都十分丰富, 比如文档集合、图像集合、声音片段集合、数值数据集合, 等等。这些数据虽然存在明显的异构性, 但是将所有数据简单地看作数字数组非常有助于我们理解和处理数据。\n",
    "例如, 可以将图像（尤其是数字图像）简单地看作二维数字数组, 这些数字数组代表各区 域的像素值; 声音片段可以看作时间和强度的一维数组; 文本也可以通过各种方式转换成 数值表示, 一种可能的转换是用二进制数表示特定单词或单词对出现的频率。不管数据是何种形式, 第一步都是将这些数据转换成数值数组形式的可分析数据。\n",
    "正因如此, 有效地存储和操作数值数组是数据科学中绝对的基础过程。我们将详细介绍 NumPy。NumPy（Numerical Python 的简称）提供了高效存储和操作密集数据缓存的接口。在某些方面, NumPy 数组与 Python 内置的列表类型非常相似。但是随着数组在维度上变大, NumPy 数组提供了更加高效的存储和数据操作。NumPy 数组几乎是整个 Python 数据科学工具生态系统的核心。因此, 不管你对数据科学的哪个方面感兴趣, 花点时间学习如何有效地使用 NumPy 都是非常值得的。\n",
    "如果你听从前言给出的建议安装了 Anaconda, 那么你已经安装好 NumPy, 并可以使用它 了。如果你是个体验派, 则可以到 NumPy 网站（http://www.numpy.org/）按照其安装指导进行安装。安装好后, 你可以导入 NumPy 并再次核实你的 NumPy 版本:"
   ]
  },
  {
   "cell_type": "code",
   "execution_count": 1,
   "metadata": {},
   "outputs": [
    {
     "data": {
      "text/plain": [
       "'1.22.4'"
      ]
     },
     "execution_count": 1,
     "metadata": {},
     "output_type": "execute_result"
    }
   ],
   "source": [
    "import numpy as np\n",
    "import matplotlib.pyplot as plt\n",
    "np.__version__"
   ]
  },
  {
   "cell_type": "markdown",
   "metadata": {},
   "source": [
    "## Python 数据类型\n",
    "\n",
    "要实现高效的数据驱动科学和计算，需要理解数据是如何被存储和操作的。本节将介绍在\n",
    "Python 语言中数据数组是如何被处理的，并对比 NumPy 所做的改进。理解这个不同之处\n",
    "是理解本书其他内容的基础。\n",
    "Python 的用户往往被其易用性所吸引，其中一个易用之处就在于动态输入。静态类型的语\n",
    "言（如 C 或 Java）往往需要每一个变量都明确地声明，而动态类型的语言（例如 Python）\n",
    "可以跳过这个特殊规定。例如在 C 语言中，你可能会按照如下方式指定一个特殊的操作：\n",
    "\n",
    "``` c\n",
    "/* C代码 */\n",
    "int result = 0;\n",
    "for(int i=0; i<100; i++){\n",
    " result += i;\n",
    "}\n",
    "```\n",
    "而在 Python 中，同等的操作可以按照如下方式实现：\n",
    "\n",
    "``` Python\n",
    "# Python代码\n",
    "result = 0\n",
    "for i in range(100):\n",
    " result += i\n",
    "```\n",
    "注意这里最大的不同之处：在 C 语言中，每个变量的数据类型被明确地声明；而在  Python 中，类型是动态推断的。这意味着可以将任何类型的数据指定给任何变量：\n",
    "``` Python\n",
    "# Python代码\n",
    "x = 4\n",
    "x = \"four\"\n",
    "```\n",
    "\n",
    "这里已经将 x 变量的内容由整型转变成了字符串，而同样的操作在 C 语言中将会导致（取\n",
    "决于编译器设置）编译错误或其他未知的后果：\n",
    "\n",
    "``` C\n",
    "/* C代码 */\n",
    "int x = 4;\n",
    "x = \"four\"; // 编译失败\n",
    "```\n",
    "\n",
    "这种灵活性是使 Python 和其他动态类型的语言更易用的原因之一。理解这一特性如何工作\n",
    "是学习用 Python 有效且高效地分析数据的重要因素。但是这种类型灵活性也指出了一个事\n",
    "实：Python 变量不仅是它们的值，还包括了关于值的类型的一些额外信息，本节接下来的\n",
    "内容将进行更详细的介绍。\n",
    "\n",
    "### Python 整型不仅仅是一个整型\n",
    "标准的 Python 实现是用 C 语言编写的。这意味着每一个 Python 对象都是一个聪明的伪 C 语言结构体，该结构体不仅包含其值，还有其他信息。例如，当我们在 Python 中定义一个整型，例如 x = 10000 时，x 并不是一个“原生”整型，而是一个指针，指向一个 C 语言的复合结构体，结构体里包含了一些值。查看 Python 3.4 的源代码，可以发现整型（长整型）的定义，如下所示（C 语言的宏经过扩展之后）：\n",
    "```C\n",
    "struct _longobject {\n",
    " long ob_refcnt;\n",
    " PyTypeObject *ob_type;\n",
    " size_t ob_size;\n",
    " long ob_digit[1];\n",
    "};\n",
    "```\n",
    "Python 3.4 中的一个整型实际上包括 4 个部分。\n",
    "\n",
    "- ob_refcnt 是一个引用计数，它帮助 Python 默默地处理内存的分配和回收。\n",
    "- ob_type 将变量的类型编码。\n",
    "- ob_size 指定接下来的数据成员的大小。\n",
    "- ob_digit 包含我们希望 Python 变量表示的实际整型值。\n",
    "\n",
    "这意味着与 C 语言这样的编译语言中的整型相比，在 Python 中存储一个整型会有一些开\n",
    "销。\n",
    "\n",
    "<div align=center>\n",
    "<img width=\"500\" src=\"https://zhaochenyang20.github.io/pic/embed/6_29_1.jpg\"/>\n",
    "</div>\n",
    "<div align=center>C 整型和 Python 整型的区别，这里 PyObject_HEAD 是结构体中包含引用计数、类型编码和其他部分。</div>\n",
    "\n",
    "两者的差异在于，C 语言整型本质上是对应某个内存位置的标签，里面存储的字节会编码成整型。而 Python 的整型其实是一个指针，指向包含这个 Python 对象所有信息的某个内存位置，其中包括可以转换成整型的字节。由于 Python 的整型结构体里面还包含了大量额外的信息，所以 Python 可以自由、动态地编码。但是，Python 类型中的这些额外信息也会成为负担，在多个对象组合的结构体中尤其明显。\n",
    "\n",
    "### Python列表不仅仅是一个列表\n",
    "设想如果使用一个包含很多 Python 对象的 Python 数据结构，会发生什么？ Python 中的标准可变多元素容器是列表。可以用如下方式创建一个整型值列表：\n",
    "\n",
    "``` Python\n",
    "In [1]: L = list(range(10))\n",
    "\n",
    "In [2]: L\n",
    "Out[2]: [0, 1, 2, 3, 4, 5, 6, 7, 8, 9]\n",
    "```\n",
    "\n",
    "或者创建一个字符串列表：\n",
    "\n",
    "``` Python\n",
    "In [4]: L2 = [str(each) for each in L]\n",
    "\n",
    "In [5]: L2\n",
    "Out[5]: ['0', '1', '2', '3', '4', '5', '6', '7', '8', '9']\n",
    "\n",
    "In [6]: type(L2[0])\n",
    "Out[6]: str\n",
    "```\n",
    "\n",
    "因为 Python 的动态类型特性，甚至可以创建一个异构的列表：\n",
    "\n",
    "``` Python\n",
    "In [7]:  L3 = [True, \"2\", 3.0, 4]\n",
    "\n",
    "In [8]: [type(item) for item in L3]\n",
    "Out[8]: [bool, str, float, int]\n",
    "```\n",
    "\n",
    "但是想拥有这种灵活性也是要付出一定代价的：为了获得这些灵活的类型，列表中的每一项必须包含各自的类型信息、引用计数和其他信息；也就是说，每一项都是一个完整的 Python 对象。来看一个特殊的例子，如果列表中的所有变量都是同一类型的，那么很多信息都会显得多余——将数据存储在固定类型的数组中应该会更高效。动态类型的列表和固定类型的（NumPy 式）数组间的区别如下图所示。\n",
    "\n",
    "<div align=center>\n",
    "<img width=\"500\" src=\"https://zhaochenyang20.github.io/pic/embed/6_29_2.jpg\"/>\n",
    "</div>\n",
    "<div align=center>numpy 列表和 Python 列表的区别。</div>\n",
    "\n",
    "在实现层面，数组基本上包含一个指向连续数据块的指针。另一方面，Python 列表包含一个指向指针块的指针，这其中的每一个指针对应一个完整的 Python 对象（如前面看到的 Python 整型）。另外，列表的优势是灵活，因为每个列表元素是一个包含数据和类型信息的完整结构体，而且列表可以用任意类型的数据填充。固定类型的 NumPy 式数组缺乏这种灵活性，但是能更有效地存储和操作数据。"
   ]
  },
  {
   "cell_type": "markdown",
   "metadata": {},
   "source": [
    "# 创建和生成\n",
    "\n",
    "本节主要介绍 array 的创建和生成。为什么会把这个放在最前面呢？主要有以下两个方面原因：\n",
    "\n",
    "- 在实际工作过程中，我们时不时需要验证或查看 array 相关的 API 或互操作。\n",
    "- 有时候在使用 sklearn，matplotlib，PyTorch，Tensorflow 等工具时也需要一些简单的数据进行实验。\n",
    "\n",
    "所以，先学会如何快速拿到一个 array 是有很多益处的。本节我们主要介绍以下几种常用的创建方式：\n",
    "\n",
    "- 使用列表或元组\n",
    "- 使用 arange\n",
    "- 使用 linspace/logspace\n",
    "- 使用 ones/zeros\n",
    "- 使用 random\n",
    "- 从文件读取\n",
    "\n",
    "其中，最常用的一般是 linspace/logspace 和 random，前者常常用在画坐标轴上，后者则用于生成「模拟数据」。举例来说，当我们需要画一个函数的图像时，X 往往使用 linspace 生成，然后使用函数公式求得 Y，再 plot；当我们需要构造一些输入（比如 X）或中间输入（比如 Embedding、hidden state）时，random 会异常方便。"
   ]
  },
  {
   "cell_type": "markdown",
   "metadata": {},
   "source": [
    "### 从 python 列表或元组创建\n",
    "\n",
    "⭐⭐\n",
    "\n",
    "重点掌握传入 list 创建一个 array 即可：`np.array(list)`\n",
    "\n",
    "⚠️ 需要注意的是：「数据类型」。如果您足够仔细的话，可以发现下面第二组代码第 2 个数字是「小数」（注：Python 中 1. == 1.0），而 array 是要保证每个元素类型相同的，所以会帮您把 array 转为一个 float 的类型。"
   ]
  },
  {
   "cell_type": "code",
   "execution_count": 5,
   "metadata": {},
   "outputs": [
    {
     "data": {
      "text/plain": [
       "array([1, 2, 3])"
      ]
     },
     "execution_count": 5,
     "metadata": {},
     "output_type": "execute_result"
    }
   ],
   "source": [
    "# 一个 list\n",
    "np.array([1,2,3])"
   ]
  },
  {
   "cell_type": "code",
   "execution_count": 6,
   "metadata": {},
   "outputs": [
    {
     "data": {
      "text/plain": [
       "array([[1., 2., 3.],\n",
       "       [4., 5., 6.]])"
      ]
     },
     "execution_count": 6,
     "metadata": {},
     "output_type": "execute_result"
    }
   ],
   "source": [
    "# 二维（多维类似）\n",
    "# 注意，有一个小数\n",
    "np.array([[1, 2., 3], [4, 5, 6]])"
   ]
  },
  {
   "cell_type": "code",
   "execution_count": 7,
   "metadata": {},
   "outputs": [
    {
     "data": {
      "text/plain": [
       "array([1., 2., 3.], dtype=float16)"
      ]
     },
     "execution_count": 7,
     "metadata": {},
     "output_type": "execute_result"
    }
   ],
   "source": [
    "# 你也可以指定数据类型\n",
    "np.array([1, 2, 3], dtype=np.float16)"
   ]
  },
  {
   "cell_type": "code",
   "execution_count": 8,
   "metadata": {},
   "outputs": [
    {
     "data": {
      "text/plain": [
       "array([[1, 2, 3],\n",
       "       [4, 5, 6]], dtype=int32)"
      ]
     },
     "execution_count": 8,
     "metadata": {},
     "output_type": "execute_result"
    }
   ],
   "source": [
    "# 如果指定了 dtype，输入的值都会被转为对应的类型，而且不会四舍五入\n",
    "lst = [\n",
    "    [1, 2, 3],\n",
    "    [4, 5, 6.8]\n",
    "]\n",
    "np.array(lst, dtype=np.int32)"
   ]
  },
  {
   "cell_type": "code",
   "execution_count": 9,
   "metadata": {},
   "outputs": [
    {
     "data": {
      "text/plain": [
       "array([1.1, 2.2])"
      ]
     },
     "execution_count": 9,
     "metadata": {},
     "output_type": "execute_result"
    }
   ],
   "source": [
    "# 一个 tuple\n",
    "np.array((1.1, 2.2))"
   ]
  },
  {
   "cell_type": "code",
   "execution_count": 10,
   "metadata": {},
   "outputs": [
    {
     "data": {
      "text/plain": [
       "array([[1.1, 2.2, 3.3],\n",
       "       [4.4, 5.5, 6.6]])"
      ]
     },
     "execution_count": 10,
     "metadata": {},
     "output_type": "execute_result"
    }
   ],
   "source": [
    "# tuple，一般用 list 就好，不需要使用 tuple\n",
    "np.array([(1.1, 2.2, 3.3), (4.4, 5.5, 6.6)])"
   ]
  },
  {
   "cell_type": "code",
   "execution_count": 11,
   "metadata": {},
   "outputs": [
    {
     "data": {
      "text/plain": [
       "array([1, 2, 3])"
      ]
     },
     "execution_count": 11,
     "metadata": {},
     "output_type": "execute_result"
    }
   ],
   "source": [
    "# 转换而不是上面的创建，其实是类似的，无须过于纠结\n",
    "np.asarray((1,2,3))"
   ]
  },
  {
   "cell_type": "code",
   "execution_count": 12,
   "metadata": {},
   "outputs": [
    {
     "data": {
      "text/plain": [
       "array([[1., 2., 3.],\n",
       "       [4., 5., 6.]])"
      ]
     },
     "execution_count": 12,
     "metadata": {},
     "output_type": "execute_result"
    }
   ],
   "source": [
    "np.asarray(([1., 2., 3.], (4., 5., 6.)))"
   ]
  },
  {
   "cell_type": "markdown",
   "metadata": {},
   "source": [
    "## 使用 arange 生成\n",
    "\n",
    "⭐⭐\n",
    "\n",
    "range 是 Python 内置的整数序列生成器，arange 是 numpy 的，效果类似，会生成一维的向量。我们偶尔会需要使用这种方式来构造 array，比如：\n",
    "\n",
    "需要创建一个连续一维向量作为输入（比如编码位置时可以使用）需要观察筛选、抽样的结果时，有序的 array 一般更加容易观察\n",
    "\n",
    "⚠️ 需要注意的是：在 reshape 时，目标的 shape 需要的元素数量一定要和原始的元素数量相等。"
   ]
  },
  {
   "cell_type": "code",
   "execution_count": 18,
   "metadata": {},
   "outputs": [
    {
     "data": {
      "text/plain": [
       "array([[ 0,  1,  2,  3],\n",
       "       [ 4,  5,  6,  7],\n",
       "       [ 8,  9, 10, 11]])"
      ]
     },
     "execution_count": 18,
     "metadata": {},
     "output_type": "execute_result"
    }
   ],
   "source": [
    "np.arange(12).reshape(3, 4)"
   ]
  },
  {
   "cell_type": "code",
   "execution_count": 15,
   "metadata": {},
   "outputs": [
    {
     "data": {
      "text/plain": [
       "array([[ 0.,  1.,  2.],\n",
       "       [ 3.,  4.,  5.],\n",
       "       [ 6.,  7.,  8.],\n",
       "       [ 9., 10., 11.]])"
      ]
     },
     "execution_count": 15,
     "metadata": {},
     "output_type": "execute_result"
    }
   ],
   "source": [
    "# 注意，是小数\n",
    "np.arange(12.0).reshape(4, 3)"
   ]
  },
  {
   "cell_type": "code",
   "execution_count": 16,
   "metadata": {},
   "outputs": [
    {
     "data": {
      "text/plain": [
       "array([[[100, 102],\n",
       "        [104, 106]],\n",
       "\n",
       "       [[108, 110],\n",
       "        [112, 114]],\n",
       "\n",
       "       [[116, 118],\n",
       "        [120, 122]]])"
      ]
     },
     "execution_count": 16,
     "metadata": {},
     "output_type": "execute_result"
    }
   ],
   "source": [
    "np.arange(100, 124, 2).reshape(3, 2, 2)"
   ]
  },
  {
   "cell_type": "code",
   "execution_count": 17,
   "metadata": {},
   "outputs": [
    {
     "ename": "ValueError",
     "evalue": "cannot reshape array of size 12 into shape (2,3,4)",
     "output_type": "error",
     "traceback": [
      "\u001b[0;31m---------------------------------------------------------------------------\u001b[0m",
      "\u001b[0;31mValueError\u001b[0m                                Traceback (most recent call last)",
      "\u001b[1;32m/Users/zhaochen20/Git/blog_zhaochen20/source/ipynb/numpy.ipynb Cell 18'\u001b[0m in \u001b[0;36m<cell line: 2>\u001b[0;34m()\u001b[0m\n\u001b[1;32m      <a href='vscode-notebook-cell:/Users/zhaochen20/Git/blog_zhaochen20/source/ipynb/numpy.ipynb#ch0000028?line=0'>1</a>\u001b[0m \u001b[39m# shape size 相乘要和生成的元素数量一致\u001b[39;00m\n\u001b[0;32m----> <a href='vscode-notebook-cell:/Users/zhaochen20/Git/blog_zhaochen20/source/ipynb/numpy.ipynb#ch0000028?line=1'>2</a>\u001b[0m np\u001b[39m.\u001b[39;49marange(\u001b[39m100.\u001b[39;49m, \u001b[39m124.\u001b[39;49m, \u001b[39m2\u001b[39;49m)\u001b[39m.\u001b[39;49mreshape(\u001b[39m2\u001b[39;49m,\u001b[39m3\u001b[39;49m,\u001b[39m4\u001b[39;49m)\n",
      "\u001b[0;31mValueError\u001b[0m: cannot reshape array of size 12 into shape (2,3,4)"
     ]
    }
   ],
   "source": [
    "# shape size 相乘要和生成的元素数量一致\n",
    "np.arange(100., 124., 2).reshape(2,3,4)"
   ]
  },
  {
   "cell_type": "markdown",
   "id": "b185e482",
   "metadata": {},
   "source": [
    "### 从 python 列表或元组创建\n",
    "\n",
    "⭐⭐ 重点掌握传入 list 创建一个 array 即可：`np.array(list)`\n",
    "\n",
    "\n",
    "⚠️ 需要注意的是：「数据类型」。如果您足够仔细的话，可以发现下面第二组代码第 2 个数字是「小数」（注：Python 中 1. == 1.0），而 array 是要保证每个元素类型相同的，所以会帮您把 array 转为一个 float 的类型。"
   ]
  },
  {
   "cell_type": "code",
   "execution_count": 1,
   "id": "58e07828",
   "metadata": {
    "scrolled": true
   },
   "outputs": [
    {
     "ename": "NameError",
     "evalue": "name 'np' is not defined",
     "output_type": "error",
     "traceback": [
      "\u001b[0;31m---------------------------------------------------------------------------\u001b[0m",
      "\u001b[0;31mNameError\u001b[0m                                 Traceback (most recent call last)",
      "\u001b[1;32m/Users/zhaochen20/Git/powerful-numpy/src/introduction/ch-all.ipynb Cell 3'\u001b[0m in \u001b[0;36m<cell line: 2>\u001b[0;34m()\u001b[0m\n\u001b[1;32m      <a href='vscode-notebook-cell:/Users/zhaochen20/Git/powerful-numpy/src/introduction/ch-all.ipynb#ch0000002?line=0'>1</a>\u001b[0m \u001b[39m# 一个 list\u001b[39;00m\n\u001b[0;32m----> <a href='vscode-notebook-cell:/Users/zhaochen20/Git/powerful-numpy/src/introduction/ch-all.ipynb#ch0000002?line=1'>2</a>\u001b[0m np\u001b[39m.\u001b[39marray([\u001b[39m1\u001b[39m,\u001b[39m2\u001b[39m,\u001b[39m3\u001b[39m])\n",
      "\u001b[0;31mNameError\u001b[0m: name 'np' is not defined"
     ]
    }
   ],
   "source": [
    "# 一个 list\n",
    "np.array([1,2,3])"
   ]
  },
  {
   "cell_type": "markdown",
   "id": "7d40c228",
   "metadata": {},
   "source": [
    "### 使用 linspace/logspace 生成\n",
    "\n",
    "⭐⭐⭐\n",
    "\n",
    "OK，这是我们遇到的第一个比较重要的 API，前者需要传入 3 个参数：开头，结尾，数量；后者需要额外传入一个 base，它默认是 10。\n",
    "\n",
    "⚠️ 需要注意的是：第三个参数并**不是**步长。"
   ]
  },
  {
   "cell_type": "markdown",
   "id": "b59eb49d",
   "metadata": {},
   "source": [
    "#### `np.linspace`"
   ]
  },
  {
   "cell_type": "code",
   "execution_count": 21,
   "id": "41cc2425",
   "metadata": {},
   "outputs": [
    {
     "name": "stdout",
     "output_type": "stream",
     "text": [
      "[[[0.]\n",
      "  [1.]\n",
      "  [2.]\n",
      "  [3.]\n",
      "  [4.]]\n",
      "\n",
      " [[5.]\n",
      "  [6.]\n",
      "  [7.]\n",
      "  [8.]\n",
      "  [9.]]]\n"
     ]
    },
    {
     "data": {
      "text/plain": [
       "array([[[0., 1., 2., 3., 4.],\n",
       "        [5., 6., 7., 8., 9.]]])"
      ]
     },
     "execution_count": 21,
     "metadata": {},
     "output_type": "execute_result"
    }
   ],
   "source": [
    "# 线性\n",
    "print(np.linspace(0, 9, 10).reshape(2, 5, 1))\n",
    "np.linspace(0, 9, 10).reshape(1, 2, 5)"
   ]
  },
  {
   "cell_type": "code",
   "execution_count": 22,
   "id": "52e28f09",
   "metadata": {},
   "outputs": [
    {
     "data": {
      "text/plain": [
       "array([[0. , 1.8, 3.6],\n",
       "       [5.4, 7.2, 9. ]])"
      ]
     },
     "execution_count": 22,
     "metadata": {},
     "output_type": "execute_result"
    }
   ],
   "source": [
    "np.linspace(0, 9, 6).reshape(2, 3)"
   ]
  },
  {
   "cell_type": "markdown",
   "id": "daf5d165",
   "metadata": {},
   "source": [
    "---"
   ]
  },
  {
   "cell_type": "code",
   "execution_count": 30,
   "id": "16b13ef2",
   "metadata": {
    "scrolled": true
   },
   "outputs": [
    {
     "name": "stdout",
     "output_type": "stream",
     "text": [
      "[[1.00000000e+00 6.04964746e+00 3.65982344e+01]\n",
      " [2.21406416e+02 1.33943076e+03 8.10308393e+03]]\n",
      "[[1.00000000e+00 6.30957344e+01 3.98107171e+03]\n",
      " [2.51188643e+05 1.58489319e+07 1.00000000e+09]]\n",
      "[1.00000000e+00 6.04964746e+00 3.65982344e+01 2.21406416e+02\n",
      " 1.33943076e+03 8.10308393e+03]\n",
      "[1.00000000e+00 6.30957344e+01 3.98107171e+03 2.51188643e+05\n",
      " 1.58489319e+07 1.00000000e+09]\n"
     ]
    }
   ],
   "source": [
    "# 指数 base 默认为 10\n",
    "print(np.logspace(0, 9, 6, base=np.e).reshape(2, 3))\n",
    "print(np.logspace(0, 9, 6, base=10).reshape(2, 3))\n",
    "print(np.logspace(0, 9, 6, base=np.e))\n",
    "arr1 = np.logspace(0, 9, 6, base=10)\n",
    "print(arr1)"
   ]
  },
  {
   "cell_type": "code",
   "execution_count": 43,
   "id": "6b463300",
   "metadata": {},
   "outputs": [
    {
     "name": "stdout",
     "output_type": "stream",
     "text": [
      "[ 0.          4.14465317  8.28930633 12.4339595  16.57861267 20.72326584]\n",
      "[0.  1.8 3.6 5.4 7.2 9. ]\n"
     ]
    }
   ],
   "source": [
    "# logspace 结果 log 后就是上面 linspace 的结果\n",
    "arr1 = np.logspace(0, 9, 6, base=10)\n",
    "print(np.log(arr1))\n",
    "print(np.log10(arr1))"
   ]
  },
  {
   "cell_type": "markdown",
   "id": "d1bf7176",
   "metadata": {},
   "source": [
    "下面我们更进一步看一下："
   ]
  },
  {
   "cell_type": "code",
   "execution_count": 45,
   "id": "49bf8d9e",
   "metadata": {
    "scrolled": true
   },
   "outputs": [
    {
     "data": {
      "image/png": "[encoded data removed]",
      "text/plain": [
       "<Figure size 432x288 with 1 Axes>"
      ]
     },
     "metadata": {
      "needs_background": "light"
     },
     "output_type": "display_data"
    }
   ],
   "source": [
    "N = 20\n",
    "x = np.arange(N)\n",
    "y1 = np.linspace(0, 10, N) * 100\n",
    "y2 = np.logspace(0, 10, N, base=2)\n",
    "\n",
    "plt.plot(x, y2, '*');\n",
    "plt.plot(x, y1, 'o');\n",
    "plt.plot(x, y2);\n",
    "plt.plot(x, y1);"
   ]
  },
  {
   "cell_type": "code",
   "execution_count": 46,
   "id": "96904bec",
   "metadata": {},
   "outputs": [
    {
     "name": "stdout",
     "output_type": "stream",
     "text": [
      "[1.00000000e+00 1.44024654e+00 2.07431009e+00 2.98751792e+00\n",
      " 4.30276234e+00 6.19703857e+00 8.92526334e+00 1.28545796e+01\n",
      " 1.85137638e+01 2.66643842e+01 3.84032870e+01 5.53102012e+01\n",
      " 7.96603257e+01 1.14730508e+02 1.65240217e+02 2.37986651e+02\n",
      " 3.42759450e+02 4.93658111e+02 7.10989385e+02 1.02400000e+03]\n",
      "[ 0.          0.52631579  1.05263158  1.57894737  2.10526316  2.63157895\n",
      "  3.15789474  3.68421053  4.21052632  4.73684211  5.26315789  5.78947368\n",
      "  6.31578947  6.84210526  7.36842105  7.89473684  8.42105263  8.94736842\n",
      "  9.47368421 10.        ]\n"
     ]
    },
    {
     "data": {
      "text/plain": [
       "True"
      ]
     },
     "execution_count": 46,
     "metadata": {},
     "output_type": "execute_result"
    }
   ],
   "source": [
    "# 检查每个元素是否为 True\n",
    "# base 的 指数为 linspace 得到的就是 logspace\n",
    "y2 = np.logspace(0, 10, N, base=2)\n",
    "print(y2)\n",
    "print(np.linspace(0, 10, N))\n",
    "np.alltrue(2 ** np.linspace(0, 10, N)  == y2)"
   ]
  },
  {
   "cell_type": "markdown",
   "id": "dad3ad93",
   "metadata": {},
   "source": [
    ">⚠️ 补充：关于 array 的条件判断"
   ]
  },
  {
   "cell_type": "code",
   "execution_count": 48,
   "id": "c781975b",
   "metadata": {},
   "outputs": [
    {
     "data": {
      "text/plain": [
       "array([False, False,  True])"
      ]
     },
     "execution_count": 48,
     "metadata": {},
     "output_type": "execute_result"
    }
   ],
   "source": [
    "# 不能直接用 if 判断 array 是否符合某个条件\n",
    "arr = np.array([1, 2, 3])\n",
    "cond1 = arr > 2\n",
    "cond1"
   ]
  },
  {
   "cell_type": "code",
   "execution_count": 49,
   "id": "5e9aa019",
   "metadata": {},
   "outputs": [
    {
     "ename": "ValueError",
     "evalue": "The truth value of an array with more than one element is ambiguous. Use a.any() or a.all()",
     "output_type": "error",
     "traceback": [
      "\u001b[0;31m---------------------------------------------------------------------------\u001b[0m",
      "\u001b[0;31mValueError\u001b[0m                                Traceback (most recent call last)",
      "\u001b[1;32m/Users/zhaochen20/Git/blog_zhaochen20/source/ipynb/numpy.ipynb Cell 65'\u001b[0m in \u001b[0;36m<cell line: 1>\u001b[0;34m()\u001b[0m\n\u001b[0;32m----> <a href='vscode-notebook-cell:/Users/zhaochen20/Git/blog_zhaochen20/source/ipynb/numpy.ipynb#ch0000078?line=0'>1</a>\u001b[0m \u001b[39mif\u001b[39;00m cond1:\n\u001b[1;32m      <a href='vscode-notebook-cell:/Users/zhaochen20/Git/blog_zhaochen20/source/ipynb/numpy.ipynb#ch0000078?line=1'>2</a>\u001b[0m     \u001b[39mprint\u001b[39m(\u001b[39m\"\u001b[39m\u001b[39m这不行\u001b[39m\u001b[39m\"\u001b[39m)\n",
      "\u001b[0;31mValueError\u001b[0m: The truth value of an array with more than one element is ambiguous. Use a.any() or a.all()"
     ]
    }
   ],
   "source": [
    "if cond1:\n",
    "    print(\"forbid\")"
   ]
  },
  {
   "cell_type": "code",
   "execution_count": 52,
   "id": "e206de5e",
   "metadata": {},
   "outputs": [
    {
     "ename": "ValueError",
     "evalue": "The truth value of an array with more than one element is ambiguous. Use a.any() or a.all()",
     "output_type": "error",
     "traceback": [
      "\u001b[0;31m---------------------------------------------------------------------------\u001b[0m",
      "\u001b[0;31mValueError\u001b[0m                                Traceback (most recent call last)",
      "\u001b[1;32m/Users/zhaochen20/Git/blog_zhaochen20/source/ipynb/numpy.ipynb Cell 67'\u001b[0m in \u001b[0;36m<cell line: 4>\u001b[0;34m()\u001b[0m\n\u001b[1;32m      <a href='vscode-notebook-cell:/Users/zhaochen20/Git/blog_zhaochen20/source/ipynb/numpy.ipynb#ch0000081?line=1'>2</a>\u001b[0m arr \u001b[39m=\u001b[39m np\u001b[39m.\u001b[39marray([\u001b[39m1\u001b[39m, \u001b[39m2\u001b[39m, \u001b[39m3\u001b[39m])\n\u001b[1;32m      <a href='vscode-notebook-cell:/Users/zhaochen20/Git/blog_zhaochen20/source/ipynb/numpy.ipynb#ch0000081?line=2'>3</a>\u001b[0m cond2 \u001b[39m=\u001b[39m arr \u001b[39m>\u001b[39m \u001b[39m0\u001b[39m\n\u001b[0;32m----> <a href='vscode-notebook-cell:/Users/zhaochen20/Git/blog_zhaochen20/source/ipynb/numpy.ipynb#ch0000081?line=3'>4</a>\u001b[0m \u001b[39mif\u001b[39;00m cond2:\n\u001b[1;32m      <a href='vscode-notebook-cell:/Users/zhaochen20/Git/blog_zhaochen20/source/ipynb/numpy.ipynb#ch0000081?line=4'>5</a>\u001b[0m     \u001b[39mprint\u001b[39m(\u001b[39m\"\u001b[39m\u001b[39mforbid\u001b[39m\u001b[39m\"\u001b[39m)\n",
      "\u001b[0;31mValueError\u001b[0m: The truth value of an array with more than one element is ambiguous. Use a.any() or a.all()"
     ]
    }
   ],
   "source": [
    "# 即便你全是 True 它也不行\n",
    "arr = np.array([1, 2, 3])\n",
    "cond2 = arr > 0\n",
    "if cond2:\n",
    "    print(\"forbid\")"
   ]
  },
  {
   "cell_type": "code",
   "execution_count": 53,
   "id": "a1b625b1",
   "metadata": {},
   "outputs": [
    {
     "name": "stdout",
     "output_type": "stream",
     "text": [
      "if any\n"
     ]
    }
   ],
   "source": [
    "# 咱们只能用 any 或 all，这个很容易犯错，请务必注意。\n",
    "if cond1.any():\n",
    "    print(\"if any\")"
   ]
  },
  {
   "cell_type": "code",
   "execution_count": 54,
   "id": "4720f26f",
   "metadata": {},
   "outputs": [
    {
     "name": "stdout",
     "output_type": "stream",
     "text": [
      "all conform\n"
     ]
    }
   ],
   "source": [
    "if cond2.all():\n",
    "    print(\"all conform\")"
   ]
  },
  {
   "cell_type": "markdown",
   "id": "ecb6e4be",
   "metadata": {},
   "source": [
    "### 使用 ones/zeros 创建\n",
    "\n",
    "⭐\n",
    "\n",
    "创建全 1/0 array 的快捷方式。需要注意的是 `np.zeros_like` 或 `np.ones_like`，二者可以快速生成给定 array 一样 shape 的 0 或 1 向量，这在需要 Mask 某些位置时可能会用到。\n",
    "\n",
    "⚠️ 需要注意的是：创建出来的 array 默认是 float 类型。"
   ]
  },
  {
   "cell_type": "code",
   "execution_count": 14,
   "id": "b9dbb374",
   "metadata": {
    "scrolled": true
   },
   "outputs": [
    {
     "data": {
      "text/plain": [
       "array([1., 1., 1.])"
      ]
     },
     "execution_count": 14,
     "metadata": {},
     "output_type": "execute_result"
    }
   ],
   "source": [
    "np.ones(3)"
   ]
  },
  {
   "cell_type": "code",
   "execution_count": 15,
   "id": "d8f2ebe6",
   "metadata": {},
   "outputs": [
    {
     "data": {
      "text/plain": [
       "array([[1., 1., 1.],\n",
       "       [1., 1., 1.]])"
      ]
     },
     "execution_count": 15,
     "metadata": {},
     "output_type": "execute_result"
    }
   ],
   "source": [
    "np.ones((2, 3))"
   ]
  },
  {
   "cell_type": "code",
   "execution_count": 16,
   "id": "4a3e63c3",
   "metadata": {
    "scrolled": true
   },
   "outputs": [
    {
     "data": {
      "text/plain": [
       "array([[[0., 0., 0., 0.],\n",
       "        [0., 0., 0., 0.],\n",
       "        [0., 0., 0., 0.]],\n",
       "\n",
       "       [[0., 0., 0., 0.],\n",
       "        [0., 0., 0., 0.],\n",
       "        [0., 0., 0., 0.]]])"
      ]
     },
     "execution_count": 16,
     "metadata": {},
     "output_type": "execute_result"
    }
   ],
   "source": [
    "np.zeros((2,3,4))"
   ]
  },
  {
   "cell_type": "code",
   "execution_count": 20,
   "id": "88b06ea1",
   "metadata": {},
   "outputs": [
    {
     "name": "stdout",
     "output_type": "stream",
     "text": [
      "[[[0. 0. 0.]\n",
      "  [0. 0. 0.]\n",
      "  [0. 0. 0.]]\n",
      "\n",
      " [[0. 0. 0.]\n",
      "  [0. 0. 0.]\n",
      "  [0. 0. 0.]]]\n",
      "\n",
      "[[[0. 0. 0.]\n",
      "  [0. 0. 0.]\n",
      "  [0. 0. 0.]]\n",
      "\n",
      " [[0. 0. 0.]\n",
      "  [0. 0. 0.]\n",
      "  [0. 0. 0.]]]\n"
     ]
    }
   ],
   "source": [
    "# 像给定向量那样的 0 向量（ones_like 是 1 向量）\n",
    "print(np.zeros_like(np.ones((2,3,3))))\n",
    "print()\n",
    "print(np.zeros((2, 3, 3)))"
   ]
  },
  {
   "cell_type": "markdown",
   "id": "a73b3cd8",
   "metadata": {},
   "source": [
    "### 使用 random 生成\n",
    "\n",
    "⭐⭐⭐⭐⭐\n",
    "\n",
    "如果要在这一节选一个最重要的 API，那一定是 `random` 无疑了，这里我们只介绍几个比较常用的「生产」数据相关的 API。它们经常用于随机生成训练或测试数据，神经网络初始化等。\n",
    "\n",
    "⚠️ 需要注意的是：这里我们统一推荐使用新的 API 方式创建，即通过 `np.random.default_rng()` 先生成 `Generator`，然后再在此基础上生成各种分布的数据（记忆更加简便清晰）。不过我们依然会介绍就的 API 用法，因为很多代码中使用的还是旧的，您可以混个眼熟。"
   ]
  },
  {
   "cell_type": "code",
   "execution_count": 21,
   "id": "5111fba1",
   "metadata": {},
   "outputs": [
    {
     "data": {
      "text/plain": [
       "array([[0.23511762, 0.56873818, 0.19230021],\n",
       "       [0.47678832, 0.11952355, 0.75690817]])"
      ]
     },
     "execution_count": 21,
     "metadata": {},
     "output_type": "execute_result"
    }
   ],
   "source": [
    "# 0-1 连续均匀分布\n",
    "np.random.rand(2, 3)"
   ]
  },
  {
   "cell_type": "code",
   "execution_count": 22,
   "id": "6519f679",
   "metadata": {
    "scrolled": true
   },
   "outputs": [
    {
     "data": {
      "text/plain": [
       "0.026720452251105864"
      ]
     },
     "execution_count": 22,
     "metadata": {},
     "output_type": "execute_result"
    }
   ],
   "source": [
    "# 单个数\n",
    "np.random.rand()"
   ]
  },
  {
   "cell_type": "code",
   "execution_count": 23,
   "id": "0c7ac5ac",
   "metadata": {
    "scrolled": true
   },
   "outputs": [
    {
     "data": {
      "text/plain": [
       "array([[0.12704412, 0.87995251],\n",
       "       [0.93294237, 0.74835318],\n",
       "       [0.38123491, 0.17622784]])"
      ]
     },
     "execution_count": 23,
     "metadata": {},
     "output_type": "execute_result"
    }
   ],
   "source": [
    "# 0-1 连续均匀分布\n",
    "np.random.random((3, 2))"
   ]
  },
  {
   "cell_type": "code",
   "execution_count": 24,
   "id": "b17b7c7b",
   "metadata": {},
   "outputs": [
    {
     "data": {
      "text/plain": [
       "array([[-0.05284349,  0.6926759 , -0.20222092],\n",
       "       [-0.67202489, -0.82207286, -0.35224038]])"
      ]
     },
     "execution_count": 24,
     "metadata": {},
     "output_type": "execute_result"
    }
   ],
   "source": [
    "# 指定上下界的连续均匀分布\n",
    "np.random.uniform(-1, 1, (2, 3))"
   ]
  },
  {
   "cell_type": "code",
   "execution_count": 29,
   "id": "1c5e8458",
   "metadata": {},
   "outputs": [
    {
     "data": {
      "text/plain": [
       "Generator(PCG64) at 0x7F7C212E2900"
      ]
     },
     "execution_count": 29,
     "metadata": {},
     "output_type": "execute_result"
    }
   ],
   "source": [
    "# 上面两个的区别是 shape 的输入方式不同，无伤大雅了\n",
    "# 不过从 1.17 版本后推荐这样使用（以后大家可以用新的方法）\n",
    "# rng 是个 Generator，可用于生成各种分布\n",
    "rng = np.random.default_rng()\n",
    "rng"
   ]
  },
  {
   "cell_type": "code",
   "execution_count": 31,
   "id": "d8fa5f19",
   "metadata": {
    "scrolled": true
   },
   "outputs": [
    {
     "data": {
      "text/plain": [
       "array([[0.9107567 , 0.06506072, 0.86699795],\n",
       "       [0.75217545, 0.1122304 , 0.43446212]])"
      ]
     },
     "execution_count": 31,
     "metadata": {},
     "output_type": "execute_result"
    }
   ],
   "source": [
    "# 推荐的连续均匀分布用法\n",
    "rng.random((2, 3))"
   ]
  },
  {
   "cell_type": "code",
   "execution_count": 32,
   "id": "e38855d2",
   "metadata": {},
   "outputs": [
    {
     "data": {
      "text/plain": [
       "array([[0.62266463, 0.28701591, 0.18979229],\n",
       "       [0.3687113 , 0.036197  , 0.07882013]])"
      ]
     },
     "execution_count": 32,
     "metadata": {},
     "output_type": "execute_result"
    }
   ],
   "source": [
    "# 可以指定上下界，所以更加推荐这种用法\n",
    "rng.uniform(0, 1, (2, 3))"
   ]
  },
  {
   "cell_type": "code",
   "execution_count": 45,
   "id": "7828f30a",
   "metadata": {},
   "outputs": [
    {
     "data": {
      "text/plain": [
       "array([[[85, 52, 12, 72],\n",
       "        [67, 36, 60, 38],\n",
       "        [34, 15, 66, 72]],\n",
       "\n",
       "       [[53, 74, 25, 91],\n",
       "        [92, 47, 14, 82],\n",
       "        [19, 96, 95, 12]]])"
      ]
     },
     "execution_count": 45,
     "metadata": {},
     "output_type": "execute_result"
    }
   ],
   "source": [
    "# 随机整数（离散均匀分布），不超过给定的值（10）\n",
    "np.random.randint(10, size=2)\n",
    "rng.integers(100, size=(2, 3, 4))"
   ]
  },
  {
   "cell_type": "code",
   "execution_count": 65,
   "id": "870b1866",
   "metadata": {
    "scrolled": true
   },
   "outputs": [
    {
     "data": {
      "text/plain": [
       "array([[8, 6, 1],\n",
       "       [3, 8, 1]])"
      ]
     },
     "execution_count": 65,
     "metadata": {},
     "output_type": "execute_result"
    }
   ],
   "source": [
    "# 随机整数（离散均匀分布），指定上下界和 shape\n",
    "np.random.randint(0, 10, (2, 3))"
   ]
  },
  {
   "cell_type": "code",
   "execution_count": 80,
   "id": "9f66c906",
   "metadata": {
    "scrolled": true
   },
   "outputs": [
    {
     "data": {
      "text/plain": [
       "array([9, 7])"
      ]
     },
     "execution_count": 80,
     "metadata": {},
     "output_type": "execute_result"
    }
   ],
   "source": [
    "# 上面推荐的方法，指定大小和上界\n",
    "rng.integers(10, size=2)"
   ]
  },
  {
   "cell_type": "code",
   "execution_count": 75,
   "id": "8e483e47",
   "metadata": {},
   "outputs": [
    {
     "data": {
      "text/plain": [
       "array([[5, 9, 1],\n",
       "       [8, 5, 7]])"
      ]
     },
     "execution_count": 75,
     "metadata": {},
     "output_type": "execute_result"
    }
   ],
   "source": [
    "# 上面推荐的方法，指定上下界\n",
    "rng.integers(0, 10, (2, 3))"
   ]
  },
  {
   "cell_type": "code",
   "execution_count": 46,
   "id": "2824039b",
   "metadata": {
    "scrolled": true
   },
   "outputs": [
    {
     "data": {
      "text/plain": [
       "array([[ 0.93683173,  2.38393906,  0.57788267, -0.5334681 ],\n",
       "       [-1.52991914,  0.62929602,  0.05369557, -0.13152785]])"
      ]
     },
     "execution_count": 46,
     "metadata": {},
     "output_type": "execute_result"
    }
   ],
   "source": [
    "# 标准正态分布\n",
    "np.random.randn(2, 4)"
   ]
  },
  {
   "cell_type": "code",
   "execution_count": 47,
   "id": "efe65783",
   "metadata": {
    "scrolled": true
   },
   "outputs": [
    {
     "data": {
      "text/plain": [
       "array([[-1.79525432, -1.38237624,  0.14253015,  0.04605839],\n",
       "       [-0.81882286,  0.67042747, -0.45443588,  0.21584334]])"
      ]
     },
     "execution_count": 47,
     "metadata": {},
     "output_type": "execute_result"
    }
   ],
   "source": [
    "# 上面推荐的标准正态分布用法\n",
    "rng.standard_normal((2, 4))"
   ]
  },
  {
   "cell_type": "code",
   "execution_count": 48,
   "id": "f68e0355",
   "metadata": {},
   "outputs": [
    {
     "data": {
      "text/plain": [
       "array([[ 1.95669512,  0.93688944,  0.48398256, -0.04549099,  0.76186406],\n",
       "       [ 0.15061773, -0.06229197,  1.21008594, -0.92912982,  0.51459415],\n",
       "       [ 1.11429824, -0.35216788, -0.90877768,  0.96629564,  0.5854418 ]])"
      ]
     },
     "execution_count": 48,
     "metadata": {},
     "output_type": "execute_result"
    }
   ],
   "source": [
    "# 高斯分布\n",
    "np.random.normal(0, 1, (3, 5))"
   ]
  },
  {
   "cell_type": "code",
   "execution_count": 90,
   "id": "64509225",
   "metadata": {
    "scrolled": true
   },
   "outputs": [
    {
     "data": {
      "text/plain": [
       "array([[ 2.20602146, -2.17590933,  0.80605092, -1.75363919,  0.08712213],\n",
       "       [ 0.33164095,  0.33921626,  0.45251278, -0.03281331, -0.74066207],\n",
       "       [-0.61835785, -0.56459129,  0.37724436, -0.81295739,  0.12044035]])"
      ]
     },
     "execution_count": 90,
     "metadata": {},
     "output_type": "execute_result"
    }
   ],
   "source": [
    "# 上面推荐的高斯分布用法\n",
    "rng.normal(0, 1, (3, 5))"
   ]
  },
  {
   "cell_type": "markdown",
   "id": "db7ae739",
   "metadata": {},
   "source": [
    "总之，一般会用的就是2个分布：均匀分布和正态（高斯）分布。另外，`size` 可以指定 shape。"
   ]
  },
  {
   "cell_type": "code",
   "execution_count": 211,
   "id": "73ee0a47",
   "metadata": {},
   "outputs": [],
   "source": [
    "rng = np.random.default_rng()"
   ]
  },
  {
   "cell_type": "code",
   "execution_count": 212,
   "id": "a6402170",
   "metadata": {},
   "outputs": [
    {
     "data": {
      "text/plain": [
       "array([0, 7, 6, 4, 4])"
      ]
     },
     "execution_count": 212,
     "metadata": {},
     "output_type": "execute_result"
    }
   ],
   "source": [
    "# 离散均匀分布\n",
    "rng.integers(low=0, high=10, size=5)"
   ]
  },
  {
   "cell_type": "code",
   "execution_count": 213,
   "id": "74cc1da1",
   "metadata": {},
   "outputs": [
    {
     "data": {
      "text/plain": [
       "array([6.97368029, 0.94177348, 9.75622352, 7.61139702, 7.86064305])"
      ]
     },
     "execution_count": 213,
     "metadata": {},
     "output_type": "execute_result"
    }
   ],
   "source": [
    "# 连续均匀分布\n",
    "rng.uniform(low=0, high=10, size=5)"
   ]
  },
  {
   "cell_type": "code",
   "execution_count": 214,
   "id": "4fafba91",
   "metadata": {},
   "outputs": [
    {
     "data": {
      "text/plain": [
       "array([[-0.01680116, -0.85304393,  0.87939797],\n",
       "       [ 0.77779194,  0.0660307 ,  1.12724121]])"
      ]
     },
     "execution_count": 214,
     "metadata": {},
     "output_type": "execute_result"
    }
   ],
   "source": [
    "# 正态（高斯）分布\n",
    "rng.normal(loc=0.0, scale=1.0, size=(2, 3))"
   ]
  },
  {
   "cell_type": "markdown",
   "id": "aa6aa46c",
   "metadata": {},
   "source": [
    "### 从文件读取\n",
    "\n",
    "⭐⭐⭐⭐⭐\n",
    "\n",
    "\n",
    "这小节主要用于加载实现存储好的权重参数或预处理好的数据集，有时候会比较方便，比如训练好的模型参数加载到内存里用来提供推理服务，或者耗时很久的预处理数据直接存起来，多次实验时不需要重新处理。\n",
    "\n",
    "⚠️ 需要注意的是：存储时不需要写文件名后缀，会自动添加。\n",
    "在[人智导](https://github.com/zhaochenyang20/IAI_2022)中可以优雅地使用，但是请自行学习 `allow_pickle` 参数，此处给出[输入法大作业](https://github.com/zhaochenyang20/IAI_2022/blob/main/homework/input-method/src/pinyin.py)里的一个例子：\n",
    "``` Python\n",
    "dictionary = np.load(Path.cwd() / \"dictionary.npz\", allow_pickle=True)[\"dic\"].item()\n",
    "one, two, three = [Counter(each[1].item()) for each in np.load(Path.cwd() / \"full_set.npz\", allow_pickle=True).items()]\n",
    "```"
   ]
  },
  {
   "cell_type": "code",
   "execution_count": 49,
   "id": "d0262b3d",
   "metadata": {},
   "outputs": [],
   "source": [
    "# 直接将给定矩阵存为 a.npy\n",
    "np.save('./data/a', np.array([[1, 2, 3], [4, 5, 6]]))"
   ]
  },
  {
   "cell_type": "code",
   "execution_count": 50,
   "id": "50f9798f",
   "metadata": {},
   "outputs": [],
   "source": [
    "# 可以将多个矩阵存在一起，名为 `b.npz`\n",
    "np.savez(\"./data/b\", a=np.arange(12).reshape(3, 4), b=np.arange(12.).reshape(4, 3))"
   ]
  },
  {
   "cell_type": "code",
   "execution_count": 51,
   "id": "b5c9af9b",
   "metadata": {},
   "outputs": [],
   "source": [
    "# 和上一个一样，只是压缩了\n",
    "np.savez_compressed(\"./data/c\", a=np.arange(12).reshape(3, 4), b=np.arange(12.).reshape(4, 3))"
   ]
  },
  {
   "cell_type": "code",
   "execution_count": 52,
   "id": "13b4acad",
   "metadata": {
    "scrolled": true
   },
   "outputs": [
    {
     "data": {
      "text/plain": [
       "array([[1, 2, 3],\n",
       "       [4, 5, 6]])"
      ]
     },
     "execution_count": 52,
     "metadata": {},
     "output_type": "execute_result"
    }
   ],
   "source": [
    "# 加载单个 array\n",
    "np.load(\"data/a.npy\")"
   ]
  },
  {
   "cell_type": "code",
   "execution_count": 53,
   "id": "a8ab8ab1",
   "metadata": {},
   "outputs": [],
   "source": [
    "# 加载多个，可以像字典那样取出对应的 array\n",
    "arr = np.load(\"data/b.npz\")"
   ]
  },
  {
   "cell_type": "code",
   "execution_count": 54,
   "id": "2f4476cd",
   "metadata": {},
   "outputs": [
    {
     "data": {
      "text/plain": [
       "array([[ 0,  1,  2,  3],\n",
       "       [ 4,  5,  6,  7],\n",
       "       [ 8,  9, 10, 11]])"
      ]
     },
     "execution_count": 54,
     "metadata": {},
     "output_type": "execute_result"
    }
   ],
   "source": [
    "arr[\"a\"]"
   ]
  },
  {
   "cell_type": "code",
   "execution_count": 55,
   "id": "8ce76fa6",
   "metadata": {},
   "outputs": [
    {
     "data": {
      "text/plain": [
       "array([[ 0.,  1.,  2.],\n",
       "       [ 3.,  4.,  5.],\n",
       "       [ 6.,  7.,  8.],\n",
       "       [ 9., 10., 11.]])"
      ]
     },
     "execution_count": 55,
     "metadata": {},
     "output_type": "execute_result"
    }
   ],
   "source": [
    "arr[\"b\"]"
   ]
  },
  {
   "cell_type": "code",
   "execution_count": 56,
   "id": "b89f10cc",
   "metadata": {},
   "outputs": [],
   "source": [
    "# 后缀都一样，你干脆当它和上面的没区别即可\n",
    "arr = np.load(\"data/c.npz\")"
   ]
  },
  {
   "cell_type": "code",
   "execution_count": 57,
   "id": "ebdc5dff",
   "metadata": {},
   "outputs": [
    {
     "data": {
      "text/plain": [
       "array([[ 0.,  1.,  2.],\n",
       "       [ 3.,  4.,  5.],\n",
       "       [ 6.,  7.,  8.],\n",
       "       [ 9., 10., 11.]])"
      ]
     },
     "execution_count": 57,
     "metadata": {},
     "output_type": "execute_result"
    }
   ],
   "source": [
    "arr[\"b\"]"
   ]
  },
  {
   "cell_type": "markdown",
   "id": "1d3f584d",
   "metadata": {},
   "source": [
    "## 统计和属性\n",
    "\n",
    "本节我们从 array 的基本统计属性入手，对刚刚创建的 array 进一步的了解。主要包括以下几个方面：\n",
    "\n",
    "- 尺寸相关\n",
    "- 最大、最小、中位、分位值\n",
    "- 平均、求和、标准差等\n",
    "\n",
    "都是描述性统计相关的指标，对于我们从整体了解一个 array 很有帮助。其中，用到最多的是尺寸相关的「`shape`」，最大、最小值，平均值、求和等。\n",
    "\n",
    "本节的内容非常简单，您只需要特别关注（记住）两个重要的特性：\n",
    "\n",
    "- 按维度（指定 axis）求结果。一般0表示列1表示行，可以用「**沿着行/列操作**」这样理解，不确定时可以拿个例子试一下。\n",
    "- 计算后保持维度（`keepdims=True`）\n",
    "\n",
    "\n",
    "**另外，为了便于操作，我们使用一个随机生成的 array 作为操作对象；同时，我们指定了 seed，这样每次运行，每个人看到的结果都是一样的。一般我们在训练模型时，往往需要指定 seed，这样才能在「同等条件」下进行调参。**"
   ]
  },
  {
   "cell_type": "code",
   "execution_count": 59,
   "id": "1f1bb6f6",
   "metadata": {},
   "outputs": [
    {
     "data": {
      "text/plain": [
       "array([[0.77395605, 0.43887844, 0.85859792, 0.69736803],\n",
       "       [0.09417735, 0.97562235, 0.7611397 , 0.78606431],\n",
       "       [0.12811363, 0.45038594, 0.37079802, 0.92676499]])"
      ]
     },
     "execution_count": 59,
     "metadata": {},
     "output_type": "execute_result"
    }
   ],
   "source": [
    "#  先创建一个 Generator\n",
    "rng = np.random.default_rng(seed=42)\n",
    "#  再生成一个均匀分布\n",
    "arr = rng.uniform(0, 1, (3, 4))\n",
    "arr"
   ]
  },
  {
   "cell_type": "markdown",
   "id": "c51525b2",
   "metadata": {},
   "source": [
    "### 尺寸相关\n",
    "\n",
    "⭐⭐\n",
    "\n",
    "这一小节主要包括：维度、形状和数据量，其中形状 `shape` 我们用到的最多。\n",
    "\n",
    "⚠️ 需要注意的是：size 不是 shape，ndim 表示有几个维度。"
   ]
  },
  {
   "cell_type": "code",
   "execution_count": 60,
   "id": "513c2780",
   "metadata": {},
   "outputs": [
    {
     "data": {
      "text/plain": [
       "2"
      ]
     },
     "execution_count": 60,
     "metadata": {},
     "output_type": "execute_result"
    }
   ],
   "source": [
    "# 维度，array 是二维的（两个维度）\n",
    "arr.ndim"
   ]
  },
  {
   "cell_type": "markdown",
   "id": "6179b70e",
   "metadata": {},
   "source": [
    "#### `np.shape`"
   ]
  },
  {
   "cell_type": "code",
   "execution_count": 61,
   "id": "57751676",
   "metadata": {
    "scrolled": false
   },
   "outputs": [
    {
     "data": {
      "text/plain": [
       "(3, 4)"
      ]
     },
     "execution_count": 61,
     "metadata": {},
     "output_type": "execute_result"
    }
   ],
   "source": [
    "# 形状，返回一个 Tuple\n",
    "arr.shape"
   ]
  },
  {
   "cell_type": "code",
   "execution_count": 62,
   "id": "e42a999a",
   "metadata": {},
   "outputs": [
    {
     "data": {
      "text/plain": [
       "12"
      ]
     },
     "execution_count": 62,
     "metadata": {},
     "output_type": "execute_result"
    }
   ],
   "source": [
    "# 数据量\n",
    "arr.size"
   ]
  },
  {
   "cell_type": "markdown",
   "id": "ab1f38e7",
   "metadata": {},
   "source": [
    "### 最值分位\n",
    "\n",
    "⭐⭐⭐\n",
    "\n",
    "这一小节主要包括：最大值、最小值、中位数、其他分位数，其中『**最大值和最小值**』我们平时用到的最多。\n",
    "\n",
    "⚠️ 需要注意的是：分位数可以是 0-1 的任意小数（表示对应分位），而且分位数并不一定在原始的 array 中。"
   ]
  },
  {
   "cell_type": "code",
   "execution_count": 63,
   "id": "2f460268",
   "metadata": {},
   "outputs": [
    {
     "data": {
      "text/plain": [
       "array([[0.77395605, 0.43887844, 0.85859792, 0.69736803],\n",
       "       [0.09417735, 0.97562235, 0.7611397 , 0.78606431],\n",
       "       [0.12811363, 0.45038594, 0.37079802, 0.92676499]])"
      ]
     },
     "execution_count": 63,
     "metadata": {},
     "output_type": "execute_result"
    }
   ],
   "source": [
    "arr"
   ]
  },
  {
   "cell_type": "code",
   "execution_count": 64,
   "id": "3489401f",
   "metadata": {
    "scrolled": false
   },
   "outputs": [
    {
     "data": {
      "text/plain": [
       "0.9756223516367559"
      ]
     },
     "execution_count": 64,
     "metadata": {},
     "output_type": "execute_result"
    }
   ],
   "source": [
    "# 所有元素中最大的\n",
    "arr.max()"
   ]
  },
  {
   "cell_type": "markdown",
   "id": "25750646",
   "metadata": {},
   "source": [
    "#### `np.max/min`"
   ]
  },
  {
   "cell_type": "code",
   "execution_count": 65,
   "id": "10b91d0b",
   "metadata": {},
   "outputs": [
    {
     "data": {
      "text/plain": [
       "array([0.77395605, 0.97562235, 0.85859792, 0.92676499])"
      ]
     },
     "execution_count": 65,
     "metadata": {},
     "output_type": "execute_result"
    }
   ],
   "source": [
    "# 按维度（列）最大值\n",
    "arr.max(axis=0)"
   ]
  },
  {
   "cell_type": "code",
   "execution_count": 66,
   "id": "7b7ac052",
   "metadata": {},
   "outputs": [
    {
     "data": {
      "text/plain": [
       "array([0.85859792, 0.97562235, 0.92676499])"
      ]
     },
     "execution_count": 66,
     "metadata": {},
     "output_type": "execute_result"
    }
   ],
   "source": [
    "# 同理，按行\n",
    "arr.max(axis=1)"
   ]
  },
  {
   "cell_type": "code",
   "execution_count": 67,
   "id": "07063506",
   "metadata": {
    "scrolled": true
   },
   "outputs": [
    {
     "data": {
      "text/plain": [
       "array([[0.43887844],\n",
       "       [0.09417735],\n",
       "       [0.12811363]])"
      ]
     },
     "execution_count": 67,
     "metadata": {},
     "output_type": "execute_result"
    }
   ],
   "source": [
    "# 是否保持原来的维度\n",
    "# 这个需要特别注意下，很多深度学习模型中都需要保持原有的维度进行后续计算\n",
    "# shape 是 (3,1)，array 的 shape 是 (3,4)，按行，同时保持了行的维度\n",
    "arr.min(axis=1, keepdims=True)"
   ]
  },
  {
   "cell_type": "code",
   "execution_count": 68,
   "id": "54f1cf9a",
   "metadata": {},
   "outputs": [
    {
     "data": {
      "text/plain": [
       "array([[0.09417735, 0.43887844, 0.37079802, 0.69736803]])"
      ]
     },
     "execution_count": 68,
     "metadata": {},
     "output_type": "execute_result"
    }
   ],
   "source": [
    "# 保持维度：（1，4），原始array是（3，4）\n",
    "arr.min(axis=0, keepdims=True)"
   ]
  },
  {
   "cell_type": "code",
   "execution_count": 69,
   "id": "cf02e221",
   "metadata": {},
   "outputs": [
    {
     "data": {
      "text/plain": [
       "array([0.09417735, 0.43887844, 0.37079802, 0.69736803])"
      ]
     },
     "execution_count": 69,
     "metadata": {},
     "output_type": "execute_result"
    }
   ],
   "source": [
    "# 一维了\n",
    "arr.min(axis=0, keepdims=False)"
   ]
  },
  {
   "cell_type": "markdown",
   "id": "3996c733",
   "metadata": {},
   "source": [
    "---"
   ]
  },
  {
   "cell_type": "code",
   "execution_count": 164,
   "id": "622a1d30",
   "metadata": {},
   "outputs": [
    {
     "data": {
      "text/plain": [
       "array([0.77395605, 0.97562235, 0.85859792, 0.92676499])"
      ]
     },
     "execution_count": 164,
     "metadata": {},
     "output_type": "execute_result"
    }
   ],
   "source": [
    "# 也即 arrey max，另一种用法，不过我们一般习惯使用上面的用法，其实两者一回事\n",
    "np.amax(arr, axis=0)"
   ]
  },
  {
   "cell_type": "code",
   "execution_count": 70,
   "id": "6040d42e",
   "metadata": {
    "scrolled": true
   },
   "outputs": [
    {
     "data": {
      "text/plain": [
       "array([0.09417735, 0.43887844, 0.37079802, 0.69736803])"
      ]
     },
     "execution_count": 70,
     "metadata": {},
     "output_type": "execute_result"
    }
   ],
   "source": [
    "# 同 amax\n",
    "np.amin(arr, axis=1)\n",
    "np.amin(arr, axis=0)"
   ]
  },
  {
   "cell_type": "code",
   "execution_count": 71,
   "id": "599d677f",
   "metadata": {},
   "outputs": [
    {
     "data": {
      "text/plain": [
       "0.7292538655248584"
      ]
     },
     "execution_count": 71,
     "metadata": {},
     "output_type": "execute_result"
    }
   ],
   "source": [
    "# 中位数\n",
    "# 其他用法和 max，min 是一样的\n",
    "np.median(arr)"
   ]
  },
  {
   "cell_type": "code",
   "execution_count": 72,
   "id": "41caf838",
   "metadata": {},
   "outputs": [
    {
     "data": {
      "text/plain": [
       "array([0.11114549, 0.44463219, 0.56596886, 0.74171617])"
      ]
     },
     "execution_count": 72,
     "metadata": {},
     "output_type": "execute_result"
    }
   ],
   "source": [
    "# 分位数，按列取1/4数\n",
    "np.quantile(arr, q=0.25, axis=0)"
   ]
  },
  {
   "cell_type": "code",
   "execution_count": 75,
   "id": "c6fd8753",
   "metadata": {},
   "outputs": [
    {
     "data": {
      "text/plain": [
       "array([[0.73566204],\n",
       "       [0.773602  ],\n",
       "       [0.41059198]])"
      ]
     },
     "execution_count": 75,
     "metadata": {},
     "output_type": "execute_result"
    }
   ],
   "source": [
    "# 分位数，按行取 3/4，同时保持维度\n",
    "np.quantile(arr, q=0.5, axis=1, keepdims=True)"
   ]
  },
  {
   "cell_type": "code",
   "execution_count": 188,
   "id": "62071b72",
   "metadata": {},
   "outputs": [
    {
     "data": {
      "text/plain": [
       "array([0.73566204, 0.773602  , 0.41059198])"
      ]
     },
     "execution_count": 188,
     "metadata": {},
     "output_type": "execute_result"
    }
   ],
   "source": [
    "# 分位数，注意，分位数可以是 0-1 之间的任何数字（分位）\n",
    "# 如果是 1/2 分位，那正好是中位数\n",
    "np.quantile(arr, q=1/2, axis=1)"
   ]
  },
  {
   "cell_type": "markdown",
   "id": "2daa860e",
   "metadata": {},
   "source": [
    "### 平均求和标准差\n",
    "\n",
    "⭐⭐⭐\n",
    "\n",
    "这一小节主要包括：平均值、累计求和、方差、标准差等进一步的统计指标。其中使用最多的是「平均值」。"
   ]
  },
  {
   "cell_type": "code",
   "execution_count": 77,
   "id": "fd091957",
   "metadata": {},
   "outputs": [
    {
     "data": {
      "text/plain": [
       "array([[0.77395605, 0.43887844, 0.85859792, 0.69736803],\n",
       "       [0.09417735, 0.97562235, 0.7611397 , 0.78606431],\n",
       "       [0.12811363, 0.45038594, 0.37079802, 0.92676499]])"
      ]
     },
     "execution_count": 77,
     "metadata": {},
     "output_type": "execute_result"
    }
   ],
   "source": [
    "arr"
   ]
  },
  {
   "cell_type": "markdown",
   "id": "61ab35f0",
   "metadata": {},
   "source": [
    "#### `np.average`"
   ]
  },
  {
   "cell_type": "code",
   "execution_count": 401,
   "id": "52918639",
   "metadata": {
    "scrolled": false
   },
   "outputs": [
    {
     "data": {
      "text/plain": [
       "0.6051555606435642"
      ]
     },
     "execution_count": 401,
     "metadata": {},
     "output_type": "execute_result"
    }
   ],
   "source": [
    "# 平均值\n",
    "np.average(arr)"
   ]
  },
  {
   "cell_type": "code",
   "execution_count": 78,
   "id": "89a58254",
   "metadata": {
    "scrolled": true
   },
   "outputs": [
    {
     "data": {
      "text/plain": [
       "array([0.33208234, 0.62162891, 0.66351188, 0.80339911])"
      ]
     },
     "execution_count": 78,
     "metadata": {},
     "output_type": "execute_result"
    }
   ],
   "source": [
    "# 按维度平均（列）\n",
    "np.average(arr, axis=0)"
   ]
  },
  {
   "cell_type": "markdown",
   "id": "7aa6616e",
   "metadata": {},
   "source": [
    "---"
   ]
  },
  {
   "cell_type": "code",
   "execution_count": 197,
   "id": "37778dc9",
   "metadata": {},
   "outputs": [
    {
     "data": {
      "text/plain": [
       "array([0.33208234, 0.62162891, 0.66351188, 0.80339911])"
      ]
     },
     "execution_count": 197,
     "metadata": {},
     "output_type": "execute_result"
    }
   ],
   "source": [
    "# 另一个计算平均值的 API\n",
    "# 它与 average 的主要区别是，np.average 可以指定权重，即可以用于计算加权平均\n",
    "# 一般建议使用 average，忘掉 mean 吧！\n",
    "np.mean(arr, axis=0)"
   ]
  },
  {
   "cell_type": "markdown",
   "id": "e93c2f0e",
   "metadata": {},
   "source": [
    "#### `np.sum`"
   ]
  },
  {
   "cell_type": "code",
   "execution_count": 399,
   "id": "09239ee5",
   "metadata": {
    "scrolled": true
   },
   "outputs": [
    {
     "data": {
      "text/plain": [
       "array([2.76880044, 2.61700371, 1.87606258])"
      ]
     },
     "execution_count": 399,
     "metadata": {},
     "output_type": "execute_result"
    }
   ],
   "source": [
    "# 求和，不多说了，类似\n",
    "np.sum(arr, axis=1)"
   ]
  },
  {
   "cell_type": "code",
   "execution_count": 400,
   "id": "676fb6fd",
   "metadata": {},
   "outputs": [
    {
     "data": {
      "text/plain": [
       "array([[2.76880044],\n",
       "       [2.61700371],\n",
       "       [1.87606258]])"
      ]
     },
     "execution_count": 400,
     "metadata": {},
     "output_type": "execute_result"
    }
   ],
   "source": [
    "np.sum(arr, axis=1, keepdims=True)"
   ]
  },
  {
   "cell_type": "markdown",
   "id": "333c16ed",
   "metadata": {},
   "source": [
    "---"
   ]
  },
  {
   "cell_type": "code",
   "execution_count": 200,
   "id": "a3c6d831",
   "metadata": {
    "scrolled": true
   },
   "outputs": [
    {
     "data": {
      "text/plain": [
       "array([[0.77395605, 0.43887844, 0.85859792, 0.69736803],\n",
       "       [0.8681334 , 1.41450079, 1.61973762, 1.48343233],\n",
       "       [0.99624703, 1.86488673, 1.99053565, 2.41019732]])"
      ]
     },
     "execution_count": 200,
     "metadata": {},
     "output_type": "execute_result"
    }
   ],
   "source": [
    "# 按列累计求和\n",
    "np.cumsum(arr, axis=0)"
   ]
  },
  {
   "cell_type": "code",
   "execution_count": 201,
   "id": "e0e34fd1",
   "metadata": {
    "scrolled": true
   },
   "outputs": [
    {
     "data": {
      "text/plain": [
       "array([[0.77395605, 1.21283449, 2.07143241, 2.76880044],\n",
       "       [0.09417735, 1.0697997 , 1.8309394 , 2.61700371],\n",
       "       [0.12811363, 0.57849957, 0.94929759, 1.87606258]])"
      ]
     },
     "execution_count": 201,
     "metadata": {},
     "output_type": "execute_result"
    }
   ],
   "source": [
    "# 按行累计求和\n",
    "np.cumsum(arr, axis=1)"
   ]
  },
  {
   "cell_type": "code",
   "execution_count": 79,
   "id": "1913673f",
   "metadata": {
    "scrolled": true
   },
   "outputs": [
    {
     "data": {
      "text/plain": [
       "0.28783096517727075"
      ]
     },
     "execution_count": 79,
     "metadata": {},
     "output_type": "execute_result"
    }
   ],
   "source": [
    "# 标准差，用法类似\n",
    "np.std(arr)"
   ]
  },
  {
   "cell_type": "code",
   "execution_count": 205,
   "id": "f37c4180",
   "metadata": {},
   "outputs": [
    {
     "data": {
      "text/plain": [
       "array([0.3127589 , 0.25035525, 0.21076935, 0.09444968])"
      ]
     },
     "execution_count": 205,
     "metadata": {},
     "output_type": "execute_result"
    }
   ],
   "source": [
    "# 按列求标准差\n",
    "np.std(arr, axis=0)"
   ]
  },
  {
   "cell_type": "code",
   "execution_count": 207,
   "id": "5dedd68a",
   "metadata": {},
   "outputs": [
    {
     "data": {
      "text/plain": [
       "array([0.02464271, 0.1114405 , 0.0839356 ])"
      ]
     },
     "execution_count": 207,
     "metadata": {},
     "output_type": "execute_result"
    }
   ],
   "source": [
    "# 方差\n",
    "np.var(arr, axis=1)"
   ]
  },
  {
   "cell_type": "markdown",
   "id": "7be9d6f9",
   "metadata": {},
   "source": [
    "## 形状和转换\n",
    "\n",
    "array 大多数情况下都是以多维的形式出现的，一般对超过二维的多维 array 称为「张量」，二维矩阵，一维向量。因为多维度，所以自然而然地涉及到形状的改变和转换，可以算是张量最基础的「操作」了。\n",
    "\n",
    "本节我们主要涉及以下三个方面：\n",
    "\n",
    "- 改变形状\n",
    "- 反序\n",
    "- 转置\n",
    "\n",
    "其中，改变形状和转置都非常常用，我们建议您熟练掌握。"
   ]
  },
  {
   "cell_type": "markdown",
   "id": "9435e2b5",
   "metadata": {},
   "source": [
    "### 改变形状\n",
    "\n",
    "⭐⭐⭐⭐⭐\n",
    "\n",
    "这小节里面的 API 使用非常高频，尤其是扩展 1 维度的 `expand_dims` 和去除 1 维度的 `squeeze`，您未来会在很多神经网络架构中看到这俩货的身影。\n",
    "\n",
    "⚠️ 需要注意的是：无论是扩展还是缩减，多或少的 shape 都是 1，`squeeze` 时如果指定维度，则该维度 shape 必须是 1。"
   ]
  },
  {
   "cell_type": "code",
   "execution_count": 12,
   "id": "a88c870a",
   "metadata": {
    "scrolled": true
   },
   "outputs": [
    {
     "name": "stdout",
     "output_type": "stream",
     "text": [
      "[[[ 9 77]\n",
      "  [65 44]\n",
      "  [43 86]\n",
      "  [ 9 70]]\n",
      "\n",
      " [[20 10]\n",
      "  [53 97]\n",
      "  [73 76]\n",
      "  [72 78]]\n",
      "\n",
      " [[51 13]\n",
      "  [84 45]\n",
      "  [50 37]\n",
      "  [19 92]]]\n",
      "arr[0]\n",
      "[[ 9 77]\n",
      " [65 44]\n",
      " [43 86]\n",
      " [ 9 70]]\n",
      "arr[:, 0]\n",
      "[[ 9 77]\n",
      " [20 10]\n",
      " [51 13]]\n",
      "arr[:, :, 0]\n",
      "[[ 9 65 43  9]\n",
      " [20 53 73 72]\n",
      " [51 84 50 19]]\n"
     ]
    }
   ],
   "source": [
    "# 换个整数的随机 array\n",
    "rng = np.random.default_rng(seed=42)\n",
    "arr = rng.integers(1, 100, (3, 4, 2))\n",
    "print(arr)\n",
    "print(\"arr[0]\")\n",
    "print(arr[0])\n",
    "print(\"arr[:, 0]\")\n",
    "print(arr[:, 0])\n",
    "print(\"arr[:, :, 0]\")\n",
    "print(arr[:, :, 0])"
   ]
  },
  {
   "cell_type": "code",
   "execution_count": 13,
   "id": "8efe3ad8",
   "metadata": {},
   "outputs": [
    {
     "data": {
      "text/plain": [
       "array([ 9, 77, 65, 44, 43, 86,  9, 70, 20, 10, 53, 97, 73, 76, 72, 78, 51,\n",
       "       13, 84, 45, 50, 37, 19, 92])"
      ]
     },
     "execution_count": 13,
     "metadata": {},
     "output_type": "execute_result"
    }
   ],
   "source": [
    "# 有时候您可能需要将多维 array 打平\n",
    "arr = arr.ravel()\n",
    "arr"
   ]
  },
  {
   "cell_type": "code",
   "execution_count": 8,
   "id": "bd6afc41",
   "metadata": {
    "scrolled": true
   },
   "outputs": [
    {
     "data": {
      "text/plain": [
       "(24,)"
      ]
     },
     "execution_count": 8,
     "metadata": {},
     "output_type": "execute_result"
    }
   ],
   "source": [
    "arr.shape"
   ]
  },
  {
   "cell_type": "markdown",
   "id": "72edfab9",
   "metadata": {},
   "source": [
    "#### `np.expand_dims`"
   ]
  },
  {
   "cell_type": "code",
   "execution_count": 10,
   "id": "22c64806",
   "metadata": {},
   "outputs": [
    {
     "name": "stdout",
     "output_type": "stream",
     "text": [
      "[[85 82 28 63]\n",
      " [17 76 70 36]\n",
      " [ 7 97 45 89]]\n",
      "[85 82 28 63]\n",
      "\n",
      "[85 17  7]\n",
      "\n",
      "[[85 82 28 63]\n",
      " [17 76 70 36]\n",
      " [ 7 97 45 89]]\n",
      "\n",
      "[[85 82 28 63]\n",
      " [17 76 70 36]\n",
      " [ 7 97 45 89]]\n",
      "\n",
      "[[85 82 28 63]]\n",
      "\n",
      "[[[85 82 28 63]\n",
      "  [17 76 70 36]\n",
      "  [ 7 97 45 89]]]\n",
      "\n"
     ]
    }
   ],
   "source": [
    "#### 扩展 1 个维度，需要（必须）指定维度\n",
    "# 其实就是多嵌套了一下\n",
    "arr = rng.integers(1, 100, (3, 4))\n",
    "print(arr)\n",
    "print(arr[0])\n",
    "print()\n",
    "print(arr[:, 0])\n",
    "print()\n",
    "print(arr)\n",
    "print()\n",
    "arr = np.expand_dims(arr, 0)\n",
    "print(arr[0])\n",
    "print()\n",
    "print(arr[:, 0])\n",
    "print()\n",
    "print(arr)\n",
    "print()"
   ]
  },
  {
   "cell_type": "code",
   "execution_count": 56,
   "id": "fcfcdb6e",
   "metadata": {},
   "outputs": [
    {
     "name": "stdout",
     "output_type": "stream",
     "text": [
      "(3, 1, 1, 4, 1)\n",
      "(3, 1, 4, 1, 1)\n"
     ]
    }
   ],
   "source": [
    "# 扩充维度\n",
    "rng = np.random.default_rng(seed=42)\n",
    "arr = rng.integers(1, 100, (3, 4))\n",
    "expanded = np.expand_dims(arr, axis=(1, 2, 4))\n",
    "print(expanded.shape)\n",
    "expanded = np.expand_dims(arr, axis=(1, 3, 4))\n",
    "print(expanded.shape)"
   ]
  },
  {
   "cell_type": "code",
   "execution_count": 57,
   "id": "90b9b76a",
   "metadata": {},
   "outputs": [
    {
     "ename": "AxisError",
     "evalue": "axis 8 is out of bounds for array of dimension 5",
     "output_type": "error",
     "traceback": [
      "\u001b[0;31m---------------------------------------------------------------------------\u001b[0m",
      "\u001b[0;31mAxisError\u001b[0m                                 Traceback (most recent call last)",
      "\u001b[1;32m/Users/zhaochen20/Git/blog_zhaochen20/source/ipynb/numpy.ipynb Cell 72'\u001b[0m in \u001b[0;36m<cell line: 2>\u001b[0;34m()\u001b[0m\n\u001b[1;32m      <a href='vscode-notebook-cell:/Users/zhaochen20/Git/blog_zhaochen20/source/ipynb/numpy.ipynb#ch0000086?line=0'>1</a>\u001b[0m \u001b[39m# 扩充维度不能跳跃\u001b[39;00m\n\u001b[0;32m----> <a href='vscode-notebook-cell:/Users/zhaochen20/Git/blog_zhaochen20/source/ipynb/numpy.ipynb#ch0000086?line=1'>2</a>\u001b[0m expanded \u001b[39m=\u001b[39m np\u001b[39m.\u001b[39;49mexpand_dims(arr, axis\u001b[39m=\u001b[39;49m(\u001b[39m1\u001b[39;49m, \u001b[39m3\u001b[39;49m, \u001b[39m8\u001b[39;49m))\n",
      "File \u001b[0;32m<__array_function__ internals>:180\u001b[0m, in \u001b[0;36mexpand_dims\u001b[0;34m(*args, **kwargs)\u001b[0m\n",
      "File \u001b[0;32m~/opt/anaconda3/envs/analysis/lib/python3.8/site-packages/numpy/lib/shape_base.py:597\u001b[0m, in \u001b[0;36mexpand_dims\u001b[0;34m(a, axis)\u001b[0m\n\u001b[1;32m    594\u001b[0m     axis \u001b[39m=\u001b[39m (axis,)\n\u001b[1;32m    596\u001b[0m out_ndim \u001b[39m=\u001b[39m \u001b[39mlen\u001b[39m(axis) \u001b[39m+\u001b[39m a\u001b[39m.\u001b[39mndim\n\u001b[0;32m--> 597\u001b[0m axis \u001b[39m=\u001b[39m normalize_axis_tuple(axis, out_ndim)\n\u001b[1;32m    599\u001b[0m shape_it \u001b[39m=\u001b[39m \u001b[39miter\u001b[39m(a\u001b[39m.\u001b[39mshape)\n\u001b[1;32m    600\u001b[0m shape \u001b[39m=\u001b[39m [\u001b[39m1\u001b[39m \u001b[39mif\u001b[39;00m ax \u001b[39min\u001b[39;00m axis \u001b[39melse\u001b[39;00m \u001b[39mnext\u001b[39m(shape_it) \u001b[39mfor\u001b[39;00m ax \u001b[39min\u001b[39;00m \u001b[39mrange\u001b[39m(out_ndim)]\n",
      "File \u001b[0;32m~/opt/anaconda3/envs/analysis/lib/python3.8/site-packages/numpy/core/numeric.py:1391\u001b[0m, in \u001b[0;36mnormalize_axis_tuple\u001b[0;34m(axis, ndim, argname, allow_duplicate)\u001b[0m\n\u001b[1;32m   1389\u001b[0m         \u001b[39mpass\u001b[39;00m\n\u001b[1;32m   1390\u001b[0m \u001b[39m# Going via an iterator directly is slower than via list comprehension.\u001b[39;00m\n\u001b[0;32m-> 1391\u001b[0m axis \u001b[39m=\u001b[39m \u001b[39mtuple\u001b[39m([normalize_axis_index(ax, ndim, argname) \u001b[39mfor\u001b[39;00m ax \u001b[39min\u001b[39;00m axis])\n\u001b[1;32m   1392\u001b[0m \u001b[39mif\u001b[39;00m \u001b[39mnot\u001b[39;00m allow_duplicate \u001b[39mand\u001b[39;00m \u001b[39mlen\u001b[39m(\u001b[39mset\u001b[39m(axis)) \u001b[39m!=\u001b[39m \u001b[39mlen\u001b[39m(axis):\n\u001b[1;32m   1393\u001b[0m     \u001b[39mif\u001b[39;00m argname:\n",
      "File \u001b[0;32m~/opt/anaconda3/envs/analysis/lib/python3.8/site-packages/numpy/core/numeric.py:1391\u001b[0m, in \u001b[0;36m<listcomp>\u001b[0;34m(.0)\u001b[0m\n\u001b[1;32m   1389\u001b[0m         \u001b[39mpass\u001b[39;00m\n\u001b[1;32m   1390\u001b[0m \u001b[39m# Going via an iterator directly is slower than via list comprehension.\u001b[39;00m\n\u001b[0;32m-> 1391\u001b[0m axis \u001b[39m=\u001b[39m \u001b[39mtuple\u001b[39m([normalize_axis_index(ax, ndim, argname) \u001b[39mfor\u001b[39;00m ax \u001b[39min\u001b[39;00m axis])\n\u001b[1;32m   1392\u001b[0m \u001b[39mif\u001b[39;00m \u001b[39mnot\u001b[39;00m allow_duplicate \u001b[39mand\u001b[39;00m \u001b[39mlen\u001b[39m(\u001b[39mset\u001b[39m(axis)) \u001b[39m!=\u001b[39m \u001b[39mlen\u001b[39m(axis):\n\u001b[1;32m   1393\u001b[0m     \u001b[39mif\u001b[39;00m argname:\n",
      "\u001b[0;31mAxisError\u001b[0m: axis 8 is out of bounds for array of dimension 5"
     ]
    }
   ],
   "source": [
    "# 扩充维度不能跳跃\n",
    "expanded = np.expand_dims(arr, axis=(1, 3, 8))"
   ]
  },
  {
   "cell_type": "markdown",
   "metadata": {},
   "source": [
    "关于数组切片有一点很重要也非常有用，那就是数组切片返回的是数组数据的视图，而不是数值数据的副本。这一点也是 NumPy 数组切片和 Python 列表切片的不同之处：在 Python 列表中，切片是值的副本。具体可以查看下方例子："
   ]
  },
  {
   "cell_type": "code",
   "execution_count": 71,
   "metadata": {},
   "outputs": [
    {
     "name": "stdout",
     "output_type": "stream",
     "text": [
      "[[0 7 6 4]\n",
      " [4 8 0 6]\n",
      " [2 0 5 9]]\n",
      "__slice__\n",
      "[0 7 6 4]\n",
      "[0 4 2]\n",
      "__change the line__\n",
      "[[1 7 6 4]\n",
      " [4 8 0 6]\n",
      " [2 0 5 9]]\n",
      "__change the column__\n",
      "[[ 1  7  6  4]\n",
      " [ 4  8  0  6]\n",
      " [10  0  5  9]]\n"
     ]
    }
   ],
   "source": [
    "rng = np.random.default_rng(seed=42)\n",
    "x2 = rng.integers(10, size=(3, 4))\n",
    "print(x2)\n",
    "x3 = x2[0]\n",
    "x4 = x2[:, 0]\n",
    "print(\"__slice__\")\n",
    "print(x3)\n",
    "print(x4)\n",
    "x3[0] = 1\n",
    "print(\"__change the line__\")\n",
    "print(x2)\n",
    "x4[2] = 10\n",
    "print(\"__change the column__\")\n",
    "print(x2)"
   ]
  },
  {
   "cell_type": "markdown",
   "metadata": {},
   "source": [
    "与此对比，Python 原生列表表现如下:"
   ]
  },
  {
   "cell_type": "code",
   "execution_count": 72,
   "metadata": {},
   "outputs": [
    {
     "name": "stdout",
     "output_type": "stream",
     "text": [
      "['c7w', 'lambda', 'Alan']\n",
      "['c7w', 'lambda', 'Eren']\n",
      "['c7w', 'lambda', 'Alan', 'xsun2001', 'ayf']\n"
     ]
    }
   ],
   "source": [
    "lecturer_list = [\"c7w\", \"lambda\", \"Alan\", \"xsun2001\", \"ayf\"]\n",
    "singler_list = lecturer_list[:-2]\n",
    "print(singler_list)\n",
    "singler_list[-1] = \"Eren\"\n",
    "print(singler_list)\n",
    "print(lecturer_list)"
   ]
  },
  {
   "cell_type": "markdown",
   "id": "9e2a912f",
   "metadata": {},
   "source": [
    "#### `np.squeeze`"
   ]
  },
  {
   "cell_type": "code",
   "execution_count": 58,
   "id": "23abe4c3",
   "metadata": {
    "scrolled": true
   },
   "outputs": [
    {
     "name": "stdout",
     "output_type": "stream",
     "text": [
      "(3, 4)\n"
     ]
    }
   ],
   "source": [
    "# squeeze 指定 axis 的shape必须为1\n",
    "squeezd = np.squeeze(expanded, axis=(1, 3, 4))\n",
    "print(squeezd.shape)"
   ]
  },
  {
   "cell_type": "code",
   "execution_count": 129,
   "id": "4837b0c1",
   "metadata": {},
   "outputs": [
    {
     "name": "stdout",
     "output_type": "stream",
     "text": [
      "(3, 1, 4, 1, 1)\n"
     ]
    },
    {
     "data": {
      "text/plain": [
       "(3, 4)"
      ]
     },
     "execution_count": 129,
     "metadata": {},
     "output_type": "execute_result"
    }
   ],
   "source": [
    "# 如果指定了维度，那就只会去除该维度，指定的维度必须为 1\n",
    "print(expanded.shape)\n",
    "squeezed = np.squeeze(expanded, axis=1).squeeze(axis=2).squeeze(axis=2)\n",
    "print(squeezed.shape)"
   ]
  },
  {
   "cell_type": "code",
   "execution_count": 130,
   "id": "914496cd",
   "metadata": {},
   "outputs": [
    {
     "data": {
      "text/plain": [
       "(3, 4)"
      ]
     },
     "execution_count": 130,
     "metadata": {},
     "output_type": "execute_result"
    }
   ],
   "source": [
    "# 去除所有维度为 1 的\n",
    "np.squeeze(expanded).shape"
   ]
  },
  {
   "cell_type": "markdown",
   "id": "e251ed16",
   "metadata": {},
   "source": [
    "#### `np.reshape/arr.reshape`"
   ]
  },
  {
   "cell_type": "code",
   "execution_count": 133,
   "id": "0ce8d418",
   "metadata": {
    "scrolled": true
   },
   "outputs": [
    {
     "name": "stdout",
     "output_type": "stream",
     "text": [
      "[[47 78  7  9]\n",
      " [28 49 67 49]\n",
      " [44 93 16 57]]\n"
     ]
    },
    {
     "data": {
      "text/plain": [
       "array([[[47, 78,  7],\n",
       "        [ 9, 28, 49]],\n",
       "\n",
       "       [[67, 49, 44],\n",
       "        [93, 16, 57]]])"
      ]
     },
     "execution_count": 133,
     "metadata": {},
     "output_type": "execute_result"
    }
   ],
   "source": [
    "# reshape 成另一个形状\n",
    "# 也可以直接变为一维向量\n",
    "print(arr)\n",
    "arr.reshape(2, 2, 3)"
   ]
  },
  {
   "cell_type": "code",
   "execution_count": 134,
   "id": "5af6feb2",
   "metadata": {
    "scrolled": true
   },
   "outputs": [
    {
     "data": {
      "text/plain": [
       "array([[47, 78,  7],\n",
       "       [ 9, 28, 49],\n",
       "       [67, 49, 44],\n",
       "       [93, 16, 57]])"
      ]
     },
     "execution_count": 134,
     "metadata": {},
     "output_type": "execute_result"
    }
   ],
   "source": [
    "# 可以偷懒，使用 -1 表示其他维度（此处 -1 为 3），注意，reshape 参数可以是 tuple 或连续整数\n",
    "arr1 = arr.reshape((4, -1))\n",
    "arr1"
   ]
  },
  {
   "cell_type": "code",
   "execution_count": 348,
   "id": "b268bad8",
   "metadata": {},
   "outputs": [
    {
     "ename": "ValueError",
     "evalue": "cannot reshape array of size 12 into shape (3,3)",
     "output_type": "error",
     "traceback": [
      "\u001b[0;31m---------------------------------------------------------------------------\u001b[0m",
      "\u001b[0;31mValueError\u001b[0m                                Traceback (most recent call last)",
      "\u001b[0;32m<ipython-input-348-67f1d69569ea>\u001b[0m in \u001b[0;36m<module>\u001b[0;34m\u001b[0m\n\u001b[1;32m      1\u001b[0m \u001b[0;31m# 元素数量必须与原array一致\u001b[0m\u001b[0;34m\u001b[0m\u001b[0;34m\u001b[0m\u001b[0;34m\u001b[0m\u001b[0m\n\u001b[0;32m----> 2\u001b[0;31m \u001b[0marr\u001b[0m\u001b[0;34m.\u001b[0m\u001b[0mreshape\u001b[0m\u001b[0;34m(\u001b[0m\u001b[0;36m3\u001b[0m\u001b[0;34m,\u001b[0m \u001b[0;36m3\u001b[0m\u001b[0;34m)\u001b[0m\u001b[0;34m\u001b[0m\u001b[0;34m\u001b[0m\u001b[0m\n\u001b[0m",
      "\u001b[0;31mValueError\u001b[0m: cannot reshape array of size 12 into shape (3,3)"
     ]
    }
   ],
   "source": [
    "# 元素数量必须与原array一致\n",
    "arr.reshape(3, 3)"
   ]
  },
  {
   "cell_type": "markdown",
   "id": "ea8d019d",
   "metadata": {},
   "source": [
    "---"
   ]
  },
  {
   "cell_type": "code",
   "execution_count": 135,
   "id": "428fcfee",
   "metadata": {},
   "outputs": [],
   "source": [
    "# 另一种变换形状的方式 —— 原地变换\n",
    "# 不过不能用-1\n",
    "# 另外 resize 不一定和原来的元素数量一样多\n",
    "arr2 = arr.resize((4, 3))\n",
    "# 注意：上面的 reshape 会生成一个新的 array，但 resize 不会，所以我们需要用原变量名将它显示出来\n",
    "# arr2 没有值\n",
    "arr2"
   ]
  },
  {
   "cell_type": "code",
   "execution_count": 139,
   "id": "8b5bce24",
   "metadata": {},
   "outputs": [
    {
     "data": {
      "text/plain": [
       "array([[47, 78,  7],\n",
       "       [ 9, 28, 49],\n",
       "       [67, 49, 44],\n",
       "       [93, 16, 57]])"
      ]
     },
     "execution_count": 139,
     "metadata": {},
     "output_type": "execute_result"
    }
   ],
   "source": [
    "arr"
   ]
  },
  {
   "cell_type": "code",
   "execution_count": 137,
   "id": "d96f2c74",
   "metadata": {},
   "outputs": [
    {
     "ename": "ValueError",
     "evalue": "cannot resize an array that references or is referenced\nby another array in this way.\nUse the np.resize function or refcheck=False",
     "output_type": "error",
     "traceback": [
      "\u001b[0;31m---------------------------------------------------------------------------\u001b[0m",
      "\u001b[0;31mValueError\u001b[0m                                Traceback (most recent call last)",
      "\u001b[1;32m/Users/zhaochen20/Git/powerful-numpy/src/introduction/ch-all.ipynb Cell 133'\u001b[0m in \u001b[0;36m<cell line: 2>\u001b[0;34m()\u001b[0m\n\u001b[1;32m      <a href='vscode-notebook-cell:/Users/zhaochen20/Git/powerful-numpy/src/introduction/ch-all.ipynb#ch0000132?line=0'>1</a>\u001b[0m \u001b[39m# 直接 resize，如果元素数量多时会提示错误\u001b[39;00m\n\u001b[0;32m----> <a href='vscode-notebook-cell:/Users/zhaochen20/Git/powerful-numpy/src/introduction/ch-all.ipynb#ch0000132?line=1'>2</a>\u001b[0m arr\u001b[39m.\u001b[39;49mresize((\u001b[39m2\u001b[39;49m, \u001b[39m3\u001b[39;49m))\n",
      "\u001b[0;31mValueError\u001b[0m: cannot resize an array that references or is referenced\nby another array in this way.\nUse the np.resize function or refcheck=False"
     ]
    }
   ],
   "source": [
    "# 直接 resize，如果元素数量多时会提示错误\n",
    "arr.resize((2, 3))"
   ]
  },
  {
   "cell_type": "code",
   "execution_count": 140,
   "id": "f82ffaee",
   "metadata": {},
   "outputs": [
    {
     "data": {
      "text/plain": [
       "array([[47, 78,  7],\n",
       "       [ 9, 28, 49]])"
      ]
     },
     "execution_count": 140,
     "metadata": {},
     "output_type": "execute_result"
    }
   ],
   "source": [
    "# 可以copy一份\n",
    "arrcopy = np.copy(arr)\n",
    "arrcopy.resize((2, 3))\n",
    "arrcopy"
   ]
  },
  {
   "cell_type": "code",
   "execution_count": 138,
   "id": "e09f2eaa",
   "metadata": {},
   "outputs": [
    {
     "data": {
      "text/plain": [
       "array([[47, 78,  7],\n",
       "       [ 9, 28, 49],\n",
       "       [67, 49, 44],\n",
       "       [93, 16, 57]])"
      ]
     },
     "execution_count": 138,
     "metadata": {},
     "output_type": "execute_result"
    }
   ],
   "source": [
    "# arr 保持不变\n",
    "arr"
   ]
  },
  {
   "cell_type": "code",
   "execution_count": 141,
   "id": "a4e990d7",
   "metadata": {},
   "outputs": [
    {
     "data": {
      "text/plain": [
       "array([[47, 78,  7],\n",
       "       [ 9, 28, 49]])"
      ]
     },
     "execution_count": 141,
     "metadata": {},
     "output_type": "execute_result"
    }
   ],
   "source": [
    "# 也可以将 refcheck 设为 False\n",
    "# 此时 arr 会发生变化\n",
    "# 元素数量超出时，截断；元素数量不够时，0填充\n",
    "arr.resize((2,3), refcheck=False)\n",
    "arr"
   ]
  },
  {
   "cell_type": "code",
   "execution_count": 142,
   "id": "d49f7af1",
   "metadata": {},
   "outputs": [
    {
     "data": {
      "text/plain": [
       "array([[47, 78,  7],\n",
       "       [ 9, 28, 49],\n",
       "       [ 0,  0,  0]])"
      ]
     },
     "execution_count": 142,
     "metadata": {},
     "output_type": "execute_result"
    }
   ],
   "source": [
    "arr.resize((3, 3), refcheck=False)\n",
    "arr"
   ]
  },
  {
   "cell_type": "code",
   "execution_count": 143,
   "id": "1f12fc48",
   "metadata": {
    "scrolled": true
   },
   "outputs": [
    {
     "data": {
      "text/plain": [
       "array([[47, 78,  7],\n",
       "       [ 9, 28, 49],\n",
       "       [ 0,  0,  0]])"
      ]
     },
     "execution_count": 143,
     "metadata": {},
     "output_type": "execute_result"
    }
   ],
   "source": [
    "arr"
   ]
  },
  {
   "cell_type": "code",
   "execution_count": 145,
   "id": "3cae80c0",
   "metadata": {},
   "outputs": [
    {
     "data": {
      "text/plain": [
       "array([[47, 78,  7],\n",
       "       [ 9, 28, 49],\n",
       "       [ 0,  0,  0],\n",
       "       [47, 78,  7],\n",
       "       [ 9, 28, 49]])"
      ]
     },
     "execution_count": 145,
     "metadata": {},
     "output_type": "execute_result"
    }
   ],
   "source": [
    "# 如果用 np.resize 会略有不同\n",
    "# 元素数量不够时，会自动复制\n",
    "np.resize(arr, (5, 3))"
   ]
  },
  {
   "cell_type": "code",
   "execution_count": 146,
   "id": "3424f3d2",
   "metadata": {},
   "outputs": [
    {
     "data": {
      "text/plain": [
       "array([[47, 78],\n",
       "       [ 7,  9]])"
      ]
     },
     "execution_count": 146,
     "metadata": {},
     "output_type": "execute_result"
    }
   ],
   "source": [
    "# 元素数量多出来时，会自动截断\n",
    "np.resize(arr, (2, 2))"
   ]
  },
  {
   "cell_type": "markdown",
   "id": "2ee5e3b2",
   "metadata": {},
   "source": [
    "### 反序\n",
    "\n",
    "⭐\n",
    "\n",
    "也可以看作是一种对原数组的转换，用的不多，可以了解一下，为接下来的索引和切片做个热身。\n",
    "\n",
    "如果给一个字符串或数组让您反序，您可能会想到很多种方法，比如：`reversed`，或者写一个方法，或者用 Python list 的索引功能，而这也是 `numpy` 中 array 反序的方式。"
   ]
  },
  {
   "cell_type": "code",
   "execution_count": 147,
   "id": "16870a5f",
   "metadata": {},
   "outputs": [
    {
     "data": {
      "text/plain": [
       "'loveu'"
      ]
     },
     "execution_count": 147,
     "metadata": {},
     "output_type": "execute_result"
    }
   ],
   "source": [
    "# 字符串\n",
    "s = \"uevol\"\n",
    "s[::-1]"
   ]
  },
  {
   "cell_type": "code",
   "execution_count": 148,
   "id": "f91cb929",
   "metadata": {},
   "outputs": [
    {
     "data": {
      "text/plain": [
       "[5.2, '1', 1]"
      ]
     },
     "execution_count": 148,
     "metadata": {},
     "output_type": "execute_result"
    }
   ],
   "source": [
    "# 数组\n",
    "lst = [1, \"1\", 5.2]\n",
    "lst[::-1]"
   ]
  },
  {
   "cell_type": "code",
   "execution_count": 149,
   "id": "57ce7b07",
   "metadata": {
    "scrolled": true
   },
   "outputs": [
    {
     "data": {
      "text/plain": [
       "array([[47, 78,  7],\n",
       "       [ 9, 28, 49],\n",
       "       [ 0,  0,  0]])"
      ]
     },
     "execution_count": 149,
     "metadata": {},
     "output_type": "execute_result"
    }
   ],
   "source": [
    "arr"
   ]
  },
  {
   "cell_type": "code",
   "execution_count": 150,
   "id": "18f3c2ca",
   "metadata": {},
   "outputs": [
    {
     "data": {
      "text/plain": [
       "array([[47, 78,  7],\n",
       "       [ 9, 28, 49],\n",
       "       [ 0,  0,  0]])"
      ]
     },
     "execution_count": 150,
     "metadata": {},
     "output_type": "execute_result"
    }
   ],
   "source": [
    "arr"
   ]
  },
  {
   "cell_type": "code",
   "execution_count": 151,
   "id": "f9c69135",
   "metadata": {},
   "outputs": [
    {
     "data": {
      "text/plain": [
       "array([[ 0,  0,  0],\n",
       "       [ 9, 28, 49],\n",
       "       [47, 78,  7]])"
      ]
     },
     "execution_count": 151,
     "metadata": {},
     "output_type": "execute_result"
    }
   ],
   "source": [
    "# 我们按上面的套路：默认列反序\n",
    "arr[::-1]"
   ]
  },
  {
   "cell_type": "code",
   "execution_count": 287,
   "id": "5196bc11",
   "metadata": {
    "scrolled": false
   },
   "outputs": [
    {
     "data": {
      "text/plain": [
       "array([[10, 53, 97],\n",
       "       [ 9, 70, 20],\n",
       "       [44, 43, 86],\n",
       "       [ 9, 77, 65]])"
      ]
     },
     "execution_count": 287,
     "metadata": {},
     "output_type": "execute_result"
    }
   ],
   "source": [
    "# 列不变行反序\n",
    "arr[::-1, :]"
   ]
  },
  {
   "cell_type": "code",
   "execution_count": 288,
   "id": "a848897b",
   "metadata": {},
   "outputs": [
    {
     "data": {
      "text/plain": [
       "array([[65, 77,  9],\n",
       "       [86, 43, 44],\n",
       "       [20, 70,  9],\n",
       "       [97, 53, 10]])"
      ]
     },
     "execution_count": 288,
     "metadata": {},
     "output_type": "execute_result"
    }
   ],
   "source": [
    "# 在不同维度上操作：行不变列反序\n",
    "arr[:, ::-1]"
   ]
  },
  {
   "cell_type": "code",
   "execution_count": 291,
   "id": "52b69a8b",
   "metadata": {},
   "outputs": [
    {
     "data": {
      "text/plain": [
       "array([[97, 53, 10],\n",
       "       [20, 70,  9],\n",
       "       [86, 43, 44],\n",
       "       [65, 77,  9]])"
      ]
     },
     "execution_count": 291,
     "metadata": {},
     "output_type": "execute_result"
    }
   ],
   "source": [
    "# 行变列也变\n",
    "arr[::-1, ::-1]"
   ]
  },
  {
   "cell_type": "markdown",
   "id": "2cdc22f0",
   "metadata": {},
   "source": [
    "### 转置\n",
    "\n",
    "⭐⭐⭐\n",
    "\n",
    "转置是线性代数的基本操作，拿二维矩阵为例，通俗理解就是把它放倒，shape 反转，行变成列，列成为行。当然，对于多维也是类似的。我们建议您二维矩阵用 `arr.T`（会快很多），超过二维的张量可以用 `np.transpose`，会更加灵活些。\n",
    "\n",
    "⚠️ 需要注意的是：一维数组转置还是自己。"
   ]
  },
  {
   "cell_type": "code",
   "execution_count": 2,
   "id": "64699518",
   "metadata": {},
   "outputs": [
    {
     "name": "stdout",
     "output_type": "stream",
     "text": [
      "[[1 2 3]]\n",
      "(1, 3)\n",
      "[[1]\n",
      " [2]\n",
      " [3]]\n",
      "(3, 1)\n"
     ]
    }
   ],
   "source": [
    "# 一维\n",
    "print(np.array([[1, 2, 3]]))\n",
    "print(np.array([[1, 2, 3]]).shape)\n",
    "print(np.array([[1, 2, 3]]).T)\n",
    "print(np.array([[1,2, 3]]).T.shape)"
   ]
  },
  {
   "cell_type": "markdown",
   "id": "acd75f46",
   "metadata": {},
   "source": [
    "#### `arr.T`"
   ]
  },
  {
   "cell_type": "code",
   "execution_count": 8,
   "id": "186a7ca0",
   "metadata": {
    "scrolled": true
   },
   "outputs": [
    {
     "name": "stdout",
     "output_type": "stream",
     "text": [
      "[[ 9 77 65 44]\n",
      " [43 86  9 70]\n",
      " [20 10 53 97]]\n",
      "(3, 4)\n",
      "[[ 9 43 20]\n",
      " [77 86 10]\n",
      " [65  9 53]\n",
      " [44 70 97]]\n",
      "(4, 3)\n"
     ]
    }
   ],
   "source": [
    "# 简便用法，把所有维度顺序都给倒过来\n",
    "rng = np.random.default_rng(seed=42)\n",
    "arr = rng.integers(1, 100, (3, 4))\n",
    "print(arr)\n",
    "print(arr.shape)\n",
    "print(arr.T)\n",
    "print(arr.T.shape)"
   ]
  },
  {
   "cell_type": "code",
   "execution_count": 9,
   "id": "5dd1d294",
   "metadata": {
    "scrolled": true
   },
   "outputs": [
    {
     "data": {
      "text/plain": [
       "(4, 3, 1, 1)"
      ]
     },
     "execution_count": 9,
     "metadata": {},
     "output_type": "execute_result"
    }
   ],
   "source": [
    "# 将 shape=(1,1,3,4) 的转置后得到 shape=(4,3,1,1)\n",
    "arr.reshape(1, 1, 3, 4).T.shape"
   ]
  },
  {
   "cell_type": "code",
   "execution_count": 10,
   "id": "bdb25a26",
   "metadata": {},
   "outputs": [
    {
     "data": {
      "text/plain": [
       "(1, 3, 1, 2, 2, 1)"
      ]
     },
     "execution_count": 10,
     "metadata": {},
     "output_type": "execute_result"
    }
   ],
   "source": [
    "# 同上\n",
    "arr.reshape(1, 2, 2, 1, 3, 1).T.shape"
   ]
  },
  {
   "cell_type": "markdown",
   "id": "cc78d45d",
   "metadata": {},
   "source": [
    "#### `np.transpose`"
   ]
  },
  {
   "cell_type": "code",
   "execution_count": 11,
   "id": "034a7658",
   "metadata": {
    "scrolled": true
   },
   "outputs": [
    {
     "data": {
      "text/plain": [
       "array([[ 9, 43, 20],\n",
       "       [77, 86, 10],\n",
       "       [65,  9, 53],\n",
       "       [44, 70, 97]])"
      ]
     },
     "execution_count": 11,
     "metadata": {},
     "output_type": "execute_result"
    }
   ],
   "source": [
    "# 这种转置方式可以指定 axes\n",
    "np.transpose(arr)"
   ]
  },
  {
   "cell_type": "code",
   "execution_count": 13,
   "id": "ea2ca5a1",
   "metadata": {},
   "outputs": [
    {
     "data": {
      "text/plain": [
       "(1, 3, 1, 2, 2, 1)"
      ]
     },
     "execution_count": 13,
     "metadata": {},
     "output_type": "execute_result"
    }
   ],
   "source": [
    "# 不指定 axes 时和 .T 是一样的\n",
    "np.transpose(arr.reshape(1, 2, 2, 1, 3, 1)).shape"
   ]
  },
  {
   "cell_type": "code",
   "execution_count": 17,
   "id": "324da7c0",
   "metadata": {},
   "outputs": [
    {
     "name": "stdout",
     "output_type": "stream",
     "text": [
      "[[[[ 9 77 65 44]\n",
      "   [43 86  9 70]\n",
      "   [20 10 53 97]]]]\n",
      "(1, 1, 3, 4)\n",
      "[[[[ 9 77 65 44]]\n",
      "\n",
      "  [[43 86  9 70]]\n",
      "\n",
      "  [[20 10 53 97]]]]\n"
     ]
    },
    {
     "data": {
      "text/plain": [
       "(1, 3, 1, 4)"
      ]
     },
     "execution_count": 17,
     "metadata": {},
     "output_type": "execute_result"
    }
   ],
   "source": [
    "# 指定 axes，不过 axes 数量必须包含所有维度的序列\n",
    "# 比如两个维度就是 (0, 1)，四个就是 (0, 1, 2, 3)\n",
    "# 当然，顺序可以改变，比如下面就是只转置第 2 个和第 3 个维度\n",
    "# 注意，只有超过 2 维时，这样才有意义\n",
    "# 下面的结果中，中间2个维度被调换顺序了，顺序就在axes中指定的\n",
    "print(arr.reshape(1, 1, 3, 4))\n",
    "print(arr.reshape(1, 1, 3, 4).shape)\n",
    "print(np.transpose(arr.reshape(1, 1, 3, 4), (0, 2, 1, 3)))\n",
    "np.transpose(arr.reshape(1, 1, 3, 4), axes=(0, 2, 1, 3)).shape"
   ]
  },
  {
   "cell_type": "markdown",
   "id": "896c6f5d",
   "metadata": {},
   "source": [
    "## 分解和组合\n",
    "\n",
    "这节我们主要学习 array 的分解和组合，本节是所有章节中最重要的一节，通过本节内容，您可以充分了解 `numpy`（以及 Python 语言）的强大，这种操作上的优雅不能说后无来者，但至少前无古人了。\n",
    "\n",
    "内容大致包括以下小节：\n",
    "\n",
    "- 切片和索引\n",
    "- 拼接\n",
    "- 重复\n",
    "- 分拆\n",
    "\n",
    "其中，重中之重是「切片和索引」，它基础、它高频、它无处不在。我们强烈建议您熟练掌握，其他三个相对简单，只需要各记住一个 API 即可。"
   ]
  },
  {
   "cell_type": "markdown",
   "id": "0e4d4f17",
   "metadata": {},
   "source": [
    "### 切片和索引\n",
    "\n",
    "⭐⭐⭐⭐⭐\n",
    "\n",
    "划重点！切片和索引是通过对已有 array 进行操作而得到想要的「部分」元素的行为过程。其核心动作可以概括为：按维度根据 `start:stop:step` 操作 array。\n",
    "\n",
    "这部分内容的核心是把处理按维度分开，不处理的维度统一用 `:` 或 `...` 代替；在看操作时，也要首先关注「`,`」在哪里。要处理的维度和之前 `arange` `linspace` 等接口使用方法是一样的。\n",
    "\n",
    "⚠️ 需要注意的是：引支持负数，即从后往前索引。"
   ]
  },
  {
   "cell_type": "code",
   "execution_count": 18,
   "id": "17e4095c",
   "metadata": {
    "scrolled": true
   },
   "outputs": [
    {
     "data": {
      "text/plain": [
       "array([[ 1, 15, 13,  8],\n",
       "       [ 8, 17,  1, 13],\n",
       "       [ 4,  1, 10, 19],\n",
       "       [14, 15, 14, 15],\n",
       "       [10,  2, 16,  9]])"
      ]
     },
     "execution_count": 18,
     "metadata": {},
     "output_type": "execute_result"
    }
   ],
   "source": [
    "rng = np.random.default_rng(42)\n",
    "arr = rng.integers(0, 20, (5, 4))\n",
    "arr"
   ]
  },
  {
   "cell_type": "markdown",
   "id": "88ccb651",
   "metadata": {},
   "source": [
    "#### `index/slice`"
   ]
  },
  {
   "cell_type": "code",
   "execution_count": 19,
   "id": "b633412d",
   "metadata": {},
   "outputs": [
    {
     "data": {
      "text/plain": [
       "array([ 1, 15, 13,  8])"
      ]
     },
     "execution_count": 19,
     "metadata": {},
     "output_type": "execute_result"
    }
   ],
   "source": [
    "# 取第 0 行\n",
    "print(arr)\n",
    "arr[0]"
   ]
  },
  {
   "cell_type": "code",
   "execution_count": 20,
   "id": "b63e8d82",
   "metadata": {
    "scrolled": true
   },
   "outputs": [
    {
     "data": {
      "text/plain": [
       "15"
      ]
     },
     "execution_count": 20,
     "metadata": {},
     "output_type": "execute_result"
    }
   ],
   "source": [
    "# 取第 0 行第 1 个元素\n",
    "arr[0, 1]"
   ]
  },
  {
   "cell_type": "code",
   "execution_count": 34,
   "id": "d4391614",
   "metadata": {
    "scrolled": true
   },
   "outputs": [
    {
     "data": {
      "text/plain": [
       "array([[ 1, 15, 13,  8],\n",
       "       [ 8, 17,  1, 13],\n",
       "       [ 4,  1, 10, 19]])"
      ]
     },
     "execution_count": 34,
     "metadata": {},
     "output_type": "execute_result"
    }
   ],
   "source": [
    "# 然后带点范围 第 1-2 行\n",
    "arr[0:3]"
   ]
  },
  {
   "cell_type": "code",
   "execution_count": 21,
   "id": "fc007639",
   "metadata": {
    "scrolled": true
   },
   "outputs": [
    {
     "data": {
      "text/plain": [
       "array([[ 1, 15, 13,  8],\n",
       "       [14, 15, 14, 15]])"
      ]
     },
     "execution_count": 21,
     "metadata": {},
     "output_type": "execute_result"
    }
   ],
   "source": [
    "# 离散也可以：第 1，3 行\n",
    "arr[[0, 3]]"
   ]
  },
  {
   "cell_type": "code",
   "execution_count": 379,
   "id": "e74bbf23",
   "metadata": {},
   "outputs": [
    {
     "data": {
      "text/plain": [
       "array([[ 1, 15, 13,  8],\n",
       "       [ 8, 17,  1, 13],\n",
       "       [ 4,  1, 10, 19],\n",
       "       [14, 15, 14, 15],\n",
       "       [10,  2, 16,  9]])"
      ]
     },
     "execution_count": 379,
     "metadata": {},
     "output_type": "execute_result"
    }
   ],
   "source": [
    "arr"
   ]
  },
  {
   "cell_type": "code",
   "execution_count": 22,
   "id": "2ab525b8",
   "metadata": {},
   "outputs": [
    {
     "data": {
      "text/plain": [
       "array([17,  1])"
      ]
     },
     "execution_count": 22,
     "metadata": {},
     "output_type": "execute_result"
    }
   ],
   "source": [
    "# 再来加上维度：第 1-2 行，第 1 列\n",
    "arr[1:3, 1]"
   ]
  },
  {
   "cell_type": "code",
   "execution_count": 23,
   "id": "3885701b",
   "metadata": {},
   "outputs": [
    {
     "data": {
      "text/plain": [
       "array([ 8, 14])"
      ]
     },
     "execution_count": 23,
     "metadata": {},
     "output_type": "execute_result"
    }
   ],
   "source": [
    "# 离散也是一样：第 1，3 行，第 0 列\n",
    "arr[[1,3], [0]]"
   ]
  },
  {
   "cell_type": "code",
   "execution_count": 24,
   "id": "07efa3c3",
   "metadata": {},
   "outputs": [
    {
     "data": {
      "text/plain": [
       "array([[14, 15, 14, 15],\n",
       "       [10,  2, 16,  9]])"
      ]
     },
     "execution_count": 24,
     "metadata": {},
     "output_type": "execute_result"
    }
   ],
   "source": [
    "# 还可以有简写：到最后或到开始。如第 3 行到最后一行\n",
    "arr[3:]"
   ]
  },
  {
   "cell_type": "code",
   "execution_count": 26,
   "id": "f3136e95",
   "metadata": {
    "scrolled": true
   },
   "outputs": [
    {
     "name": "stdout",
     "output_type": "stream",
     "text": [
      "[[ 1 15 13  8]\n",
      " [ 8 17  1 13]\n",
      " [ 4  1 10 19]\n",
      " [14 15 14 15]\n",
      " [10  2 16  9]]\n"
     ]
    },
    {
     "data": {
      "text/plain": [
       "array([[15, 13],\n",
       "       [17,  1],\n",
       "       [ 1, 10]])"
      ]
     },
     "execution_count": 26,
     "metadata": {},
     "output_type": "execute_result"
    }
   ],
   "source": [
    "# 开始到第 3 行，第 1-3 列\n",
    "print(arr)\n",
    "arr[:3, 1:3]"
   ]
  },
  {
   "cell_type": "code",
   "execution_count": 384,
   "id": "d45c5e10",
   "metadata": {},
   "outputs": [
    {
     "data": {
      "text/plain": [
       "array([[ 8, 17,  1, 13],\n",
       "       [14, 15, 14, 15]])"
      ]
     },
     "execution_count": 384,
     "metadata": {},
     "output_type": "execute_result"
    }
   ],
   "source": [
    "# 还可以来点跳跃，步长：start:stop:step，第 1 行到第 4 行，间隔为 2，即第 1、3 行\n",
    "print(arr)\n",
    "arr[1: 4: 2]"
   ]
  },
  {
   "cell_type": "code",
   "execution_count": 27,
   "id": "500e6080",
   "metadata": {},
   "outputs": [
    {
     "data": {
      "text/plain": [
       "array([[ 8,  1],\n",
       "       [14, 14]])"
      ]
     },
     "execution_count": 27,
     "metadata": {},
     "output_type": "execute_result"
    }
   ],
   "source": [
    "# 加上列也可以哦，第 1、3 行，第 0、2 列\n",
    "arr[1:4:2, 0:3:2]"
   ]
  },
  {
   "cell_type": "code",
   "execution_count": 32,
   "id": "12e68771",
   "metadata": {},
   "outputs": [
    {
     "name": "stdout",
     "output_type": "stream",
     "text": [
      "[[ 1 15 13  8]\n",
      " [ 8 17  1 13]\n",
      " [ 4  1 10 19]\n",
      " [14 15 14 15]\n",
      " [10  2 16  9]]\n",
      "[15 17  1 15  2]\n",
      "[15 17  1 15  2]\n",
      "(5,)\n"
     ]
    }
   ],
   "source": [
    "# 第一列的值，其实是所有其他维度第 1 维的值\n",
    "print(arr)\n",
    "print(arr[:, 1])\n",
    "print(arr[..., 1])\n",
    "print(arr[..., 1].shape)"
   ]
  },
  {
   "cell_type": "code",
   "execution_count": 33,
   "id": "612ac2ca",
   "metadata": {},
   "outputs": [
    {
     "data": {
      "text/plain": [
       "array([15, 17,  1, 15,  2])"
      ]
     },
     "execution_count": 33,
     "metadata": {},
     "output_type": "execute_result"
    }
   ],
   "source": [
    "# 与上面类似，但用的更多\n",
    "arr[:,1]"
   ]
  },
  {
   "cell_type": "markdown",
   "id": "2aa340d5",
   "metadata": {},
   "source": [
    "### 拼接\n",
    "\n",
    "⭐⭐⭐⭐\n",
    "\n",
    "有时候我们需要对已有的几个 array 进行拼接以形成一个大的 array（常见的例子比如不同类型特征的拼接）。本小节严格来说只有两个 API：`np.concatenate` 和 `np.stack`，前者是拼接，后者是堆叠（会增加一个维度），都可以指定维度。记住，有它俩就够了。\n",
    "\n",
    "⚠️ 需要注意的是：`hstack` 和 `vstack` 和 `stack` 没关系，反而是 `concatenate`。"
   ]
  },
  {
   "cell_type": "code",
   "execution_count": 36,
   "id": "c6ae1552",
   "metadata": {},
   "outputs": [
    {
     "name": "stdout",
     "output_type": "stream",
     "text": [
      "[[0.77395605 0.43887844 0.85859792]\n",
      " [0.69736803 0.09417735 0.97562235]]\n",
      "[[0.7611397  0.78606431 0.12811363]\n",
      " [0.45038594 0.37079802 0.92676499]]\n",
      "(2, 3)\n",
      "(2, 3)\n"
     ]
    }
   ],
   "source": [
    "rng = np.random.default_rng(42)\n",
    "\n",
    "arr1 = rng.random((2, 3))\n",
    "arr2 = rng.random((2, 3))\n",
    "print(arr1)\n",
    "print(arr2)\n",
    "print(arr1.shape)\n",
    "print(arr2.shape)"
   ]
  },
  {
   "cell_type": "markdown",
   "id": "6300ab70",
   "metadata": {},
   "source": [
    "#### `np.concatenate`"
   ]
  },
  {
   "cell_type": "code",
   "execution_count": 38,
   "id": "49bf169b",
   "metadata": {
    "scrolled": true
   },
   "outputs": [
    {
     "name": "stdout",
     "output_type": "stream",
     "text": [
      "[[0.77395605 0.43887844 0.85859792]\n",
      " [0.69736803 0.09417735 0.97562235]\n",
      " [0.7611397  0.78606431 0.12811363]\n",
      " [0.45038594 0.37079802 0.92676499]]\n",
      "(4, 3)\n",
      "[[0.77395605 0.43887844 0.85859792 0.7611397  0.78606431 0.12811363]\n",
      " [0.69736803 0.09417735 0.97562235 0.45038594 0.37079802 0.92676499]]\n",
      "(2, 6)\n"
     ]
    }
   ],
   "source": [
    "# 默认沿axis=0（列）连接\n",
    "print(np.concatenate((arr1, arr2)))\n",
    "print(np.concatenate((arr1, arr2)).shape)\n",
    "print(np.concatenate((arr1, arr2), axis=1))\n",
    "print(np.concatenate((arr1, arr2), axis=1).shape)"
   ]
  },
  {
   "cell_type": "code",
   "execution_count": 78,
   "id": "27f419f2",
   "metadata": {},
   "outputs": [
    {
     "data": {
      "text/plain": [
       "array([[0.77395605, 0.43887844, 0.85859792],\n",
       "       [0.69736803, 0.09417735, 0.97562235],\n",
       "       [0.7611397 , 0.78606431, 0.12811363],\n",
       "       [0.45038594, 0.37079802, 0.92676499]])"
      ]
     },
     "execution_count": 78,
     "metadata": {},
     "output_type": "execute_result"
    }
   ],
   "source": [
    "# 竖直按行顺序拼接\n",
    "# 注意：vstack 虽然看起来是 stack，但其实它是 concatenate，建议您只使用 np.concatenate\n",
    "np.vstack((arr1, arr2))"
   ]
  },
  {
   "cell_type": "code",
   "execution_count": 83,
   "id": "48895e55",
   "metadata": {},
   "outputs": [
    {
     "data": {
      "text/plain": [
       "array([[0.77395605, 0.43887844, 0.85859792, 0.7611397 , 0.78606431,\n",
       "        0.12811363],\n",
       "       [0.69736803, 0.09417735, 0.97562235, 0.45038594, 0.37079802,\n",
       "        0.92676499]])"
      ]
     },
     "execution_count": 83,
     "metadata": {},
     "output_type": "execute_result"
    }
   ],
   "source": [
    "# 水平按列顺序拼接\n",
    "# 道理和 vstack 一样，建议使用 `np.concatenate` axis=1\n",
    "np.hstack((arr1, arr2))"
   ]
  },
  {
   "cell_type": "markdown",
   "id": "16e84656",
   "metadata": {},
   "source": [
    "#### `np.stack`"
   ]
  },
  {
   "cell_type": "code",
   "execution_count": 39,
   "id": "69864b61",
   "metadata": {},
   "outputs": [
    {
     "data": {
      "text/plain": [
       "array([[[0.77395605, 0.43887844, 0.85859792],\n",
       "        [0.69736803, 0.09417735, 0.97562235]],\n",
       "\n",
       "       [[0.7611397 , 0.78606431, 0.12811363],\n",
       "        [0.45038594, 0.37079802, 0.92676499]]])"
      ]
     },
     "execution_count": 39,
     "metadata": {},
     "output_type": "execute_result"
    }
   ],
   "source": [
    "# 堆叠，默认根据 axis=0 进行\n",
    "np.stack((arr1, arr2))"
   ]
  },
  {
   "cell_type": "code",
   "execution_count": 40,
   "id": "761ecc57",
   "metadata": {
    "scrolled": true
   },
   "outputs": [
    {
     "data": {
      "text/plain": [
       "(2, 2, 3)"
      ]
     },
     "execution_count": 40,
     "metadata": {},
     "output_type": "execute_result"
    }
   ],
   "source": [
    "_.shape"
   ]
  },
  {
   "cell_type": "code",
   "execution_count": 46,
   "id": "e60a92b1",
   "metadata": {},
   "outputs": [
    {
     "name": "stdout",
     "output_type": "stream",
     "text": [
      "[[[0.77395605 0.43887844 0.85859792]\n",
      "  [0.7611397  0.78606431 0.12811363]]\n",
      "\n",
      " [[0.69736803 0.09417735 0.97562235]\n",
      "  [0.45038594 0.37079802 0.92676499]]]\n",
      "(2, 2, 3)\n",
      "[[[0.77395605 0.7611397 ]\n",
      "  [0.43887844 0.78606431]\n",
      "  [0.85859792 0.12811363]]\n",
      "\n",
      " [[0.69736803 0.45038594]\n",
      "  [0.09417735 0.37079802]\n",
      "  [0.97562235 0.92676499]]]\n"
     ]
    },
    {
     "data": {
      "text/plain": [
       "(2, 3, 2)"
      ]
     },
     "execution_count": 46,
     "metadata": {},
     "output_type": "execute_result"
    }
   ],
   "source": [
    "# 堆叠，根据 axis=2\n",
    "print(np.stack((arr1, arr2), axis=1))\n",
    "print(np.stack((arr1, arr2), axis=1).shape)\n",
    "print(np.stack((arr1, arr2), axis=2))\n",
    "np.stack((arr1, arr2), axis=2).shape"
   ]
  },
  {
   "cell_type": "code",
   "execution_count": 92,
   "id": "c0fd8b7a",
   "metadata": {},
   "outputs": [
    {
     "data": {
      "text/plain": [
       "(2, 3, 2)"
      ]
     },
     "execution_count": 92,
     "metadata": {},
     "output_type": "execute_result"
    }
   ],
   "source": [
    "# _ 表示上一个 Cell 的输出结果\n",
    "_.shape"
   ]
  },
  {
   "cell_type": "markdown",
   "id": "af5d9d85",
   "metadata": {},
   "source": [
    "---"
   ]
  },
  {
   "cell_type": "code",
   "execution_count": 96,
   "id": "8002478b",
   "metadata": {},
   "outputs": [
    {
     "data": {
      "text/plain": [
       "array([[[0.77395605, 0.7611397 ],\n",
       "        [0.43887844, 0.78606431],\n",
       "        [0.85859792, 0.12811363]],\n",
       "\n",
       "       [[0.69736803, 0.45038594],\n",
       "        [0.09417735, 0.37079802],\n",
       "        [0.97562235, 0.92676499]]])"
      ]
     },
     "execution_count": 96,
     "metadata": {},
     "output_type": "execute_result"
    }
   ],
   "source": [
    "# 纵深按 axis=2 堆叠，不管它就行，我们认准 `stack`\n",
    "np.dstack((arr1, arr2))"
   ]
  },
  {
   "cell_type": "code",
   "execution_count": 94,
   "id": "ff6b1321",
   "metadata": {},
   "outputs": [
    {
     "data": {
      "text/plain": [
       "(2, 3, 2)"
      ]
     },
     "execution_count": 94,
     "metadata": {},
     "output_type": "execute_result"
    }
   ],
   "source": [
    "_.shape"
   ]
  },
  {
   "cell_type": "markdown",
   "id": "a565521b",
   "metadata": {},
   "source": [
    "### 重复\n",
    "\n",
    "⭐⭐⭐\n",
    "\n",
    "重复其实是另一种拼接方式，它也可以指定要重复的维度。在有些深度学习模型数据构建中非常有用（方便）。\n",
    "\n",
    "⚠️ 需要注意的是：是一个维度一个维度依次重复，而不是整个 array 重复。"
   ]
  },
  {
   "cell_type": "code",
   "execution_count": null,
   "id": "48ce5534",
   "metadata": {},
   "outputs": [],
   "source": [
    "rng = np.random.default_rng(42)\n",
    "arr = rng.integers(0, 10, (3, 4))\n",
    "arr"
   ]
  },
  {
   "cell_type": "code",
   "execution_count": 67,
   "id": "8d34b26d",
   "metadata": {},
   "outputs": [
    {
     "data": {
      "text/plain": [
       "array([[0, 7, 6, 4],\n",
       "       [0, 7, 6, 4],\n",
       "       [4, 8, 0, 6],\n",
       "       [4, 8, 0, 6],\n",
       "       [2, 0, 5, 9],\n",
       "       [2, 0, 5, 9]])"
      ]
     },
     "execution_count": 67,
     "metadata": {},
     "output_type": "execute_result"
    }
   ],
   "source": [
    "# 在 axis=0（沿着列）上重复 2 次\n",
    "np.repeat(arr, 2, axis=0)"
   ]
  },
  {
   "cell_type": "code",
   "execution_count": 68,
   "id": "1caaf27e",
   "metadata": {},
   "outputs": [
    {
     "data": {
      "text/plain": [
       "array([[0, 0, 0, 7, 7, 7, 6, 6, 6, 4, 4, 4],\n",
       "       [4, 4, 4, 8, 8, 8, 0, 0, 0, 6, 6, 6],\n",
       "       [2, 2, 2, 0, 0, 0, 5, 5, 5, 9, 9, 9]])"
      ]
     },
     "execution_count": 68,
     "metadata": {},
     "output_type": "execute_result"
    }
   ],
   "source": [
    "# 在 axis=1（沿着行）上重复 3 次\n",
    "np.repeat(arr, 3, axis=1)"
   ]
  },
  {
   "cell_type": "markdown",
   "id": "0aaf47d3",
   "metadata": {},
   "source": [
    "### 分拆\n",
    "\n",
    "⭐⭐⭐\n",
    "\n",
    "有拼接堆叠自然就有拆分，注意这不是切片和索引，就是将 array 拆成想要的几份。用的不是特别多，API 只要记住 `np.split` 就行了，其他的都是快捷方式。\n",
    "\n",
    "⚠️ 需要注意的是：分拆的 axis 是对该维度进行拆分。"
   ]
  },
  {
   "cell_type": "code",
   "execution_count": 2,
   "id": "0ddd89b6",
   "metadata": {},
   "outputs": [
    {
     "data": {
      "text/plain": [
       "array([[ 9, 77, 65, 44],\n",
       "       [43, 86,  9, 70],\n",
       "       [20, 10, 53, 97],\n",
       "       [73, 76, 72, 78],\n",
       "       [51, 13, 84, 45],\n",
       "       [50, 37, 19, 92]])"
      ]
     },
     "execution_count": 2,
     "metadata": {},
     "output_type": "execute_result"
    }
   ],
   "source": [
    "rng = np.random.default_rng(42)\n",
    "arr = rng.integers(1, 100, (6, 4))\n",
    "arr"
   ]
  },
  {
   "cell_type": "markdown",
   "id": "6707e00c",
   "metadata": {},
   "source": [
    "#### `np.split`"
   ]
  },
  {
   "cell_type": "code",
   "execution_count": 3,
   "id": "66d61488",
   "metadata": {},
   "outputs": [
    {
     "data": {
      "text/plain": [
       "[array([[ 9, 77, 65, 44],\n",
       "        [43, 86,  9, 70]]),\n",
       " array([[20, 10, 53, 97],\n",
       "        [73, 76, 72, 78]]),\n",
       " array([[51, 13, 84, 45],\n",
       "        [50, 37, 19, 92]])]"
      ]
     },
     "execution_count": 3,
     "metadata": {},
     "output_type": "execute_result"
    }
   ],
   "source": [
    "# 默认切分列（axis=0），切成 3 份\n",
    "np.split(arr, 3)"
   ]
  },
  {
   "cell_type": "code",
   "execution_count": 4,
   "id": "b51ca3be",
   "metadata": {},
   "outputs": [
    {
     "data": {
      "text/plain": [
       "[array([[ 9, 77],\n",
       "        [43, 86],\n",
       "        [20, 10],\n",
       "        [73, 76],\n",
       "        [51, 13],\n",
       "        [50, 37]]),\n",
       " array([[65, 44],\n",
       "        [ 9, 70],\n",
       "        [53, 97],\n",
       "        [72, 78],\n",
       "        [84, 45],\n",
       "        [19, 92]])]"
      ]
     },
     "execution_count": 4,
     "metadata": {},
     "output_type": "execute_result"
    }
   ],
   "source": [
    "# （axis=1）切分行\n",
    "np.split(arr, 2, axis=1)"
   ]
  },
  {
   "cell_type": "markdown",
   "id": "46872f9b",
   "metadata": {},
   "source": [
    "---"
   ]
  },
  {
   "cell_type": "code",
   "execution_count": 123,
   "id": "a260df87",
   "metadata": {
    "scrolled": false
   },
   "outputs": [
    {
     "data": {
      "text/plain": [
       "[array([[ 9, 77, 65, 44],\n",
       "        [43, 86,  9, 70]]),\n",
       " array([[20, 10, 53, 97],\n",
       "        [73, 76, 72, 78]]),\n",
       " array([[51, 13, 84, 45],\n",
       "        [50, 37, 19, 92]])]"
      ]
     },
     "execution_count": 123,
     "metadata": {},
     "output_type": "execute_result"
    }
   ],
   "source": [
    "# 和上面的一个效果\n",
    "np.vsplit(arr, 3)"
   ]
  },
  {
   "cell_type": "code",
   "execution_count": 130,
   "id": "9e0df0c8",
   "metadata": {
    "scrolled": true
   },
   "outputs": [
    {
     "data": {
      "text/plain": [
       "[array([[ 9, 77],\n",
       "        [43, 86],\n",
       "        [20, 10],\n",
       "        [73, 76],\n",
       "        [51, 13],\n",
       "        [50, 37]]),\n",
       " array([[65, 44],\n",
       "        [ 9, 70],\n",
       "        [53, 97],\n",
       "        [72, 78],\n",
       "        [84, 45],\n",
       "        [19, 92]])]"
      ]
     },
     "execution_count": 130,
     "metadata": {},
     "output_type": "execute_result"
    }
   ],
   "source": [
    "# 等价的用法\n",
    "np.hsplit(arr, 2)"
   ]
  },
  {
   "cell_type": "markdown",
   "id": "cb0f38c7",
   "metadata": {},
   "source": [
    "## 筛选和过滤\n",
    "\n",
    "这小节与索引和切片有点类似，但倾向于从「整体」中统一筛选出「符合条件」的内容，而索引和切片更多的是依照「某种方法」切出一块内容。本小节内容同样非常重要，可以算第二个最重要的小节。主要包括以下内容：\n",
    "\n",
    "- 条件筛选\n",
    "- 提取（按条件）\n",
    "- 抽样（按分布）\n",
    "- 最大最小 index（特殊值）\n",
    "\n",
    "这几个内容都很重要，使用的也非常高频。条件筛选经常用于 Mask 或异常值处理，提取则常用于结果过滤，抽样常用在数据生成（比如负样本抽样），最大最小 index 则常见于机器学习模型预测结果判定中（根据最大概率所在的 index 决定结果属于哪一类）。"
   ]
  },
  {
   "cell_type": "code",
   "execution_count": 71,
   "id": "6f1ba5ca",
   "metadata": {},
   "outputs": [
    {
     "data": {
      "text/plain": [
       "array([[ 9, 77, 65, 44],\n",
       "       [43, 86,  9, 70],\n",
       "       [20, 10, 53, 97]])"
      ]
     },
     "execution_count": 71,
     "metadata": {},
     "output_type": "execute_result"
    }
   ],
   "source": [
    "rng = np.random.default_rng(42)\n",
    "arr = rng.integers(1, 100, (3, 4))\n",
    "arr"
   ]
  },
  {
   "cell_type": "markdown",
   "id": "c89ec78e",
   "metadata": {},
   "source": [
    "### 条件筛选\n",
    "\n",
    "⭐⭐⭐\n",
    "\n",
    "顾名思义，根据一定的条件对 array 进行筛选（标记）并后续处理。核心 API 是 `np.where`。\n",
    "\n",
    "⚠️ 需要注意的是：where 分别返回各维度的 index，赋值的是「不满足」条件的。"
   ]
  },
  {
   "cell_type": "code",
   "execution_count": 5,
   "id": "393d3dd1",
   "metadata": {},
   "outputs": [
    {
     "data": {
      "text/plain": [
       "array([[False,  True,  True, False],\n",
       "       [False,  True, False,  True],\n",
       "       [False, False,  True,  True],\n",
       "       [ True,  True,  True,  True],\n",
       "       [ True, False,  True, False],\n",
       "       [False, False, False,  True]])"
      ]
     },
     "execution_count": 5,
     "metadata": {},
     "output_type": "execute_result"
    }
   ],
   "source": [
    "# 条件筛选，可以直接在整个 array 上使用条件\n",
    "arr > 50"
   ]
  },
  {
   "cell_type": "code",
   "execution_count": 6,
   "id": "29700817",
   "metadata": {},
   "outputs": [
    {
     "data": {
      "text/plain": [
       "(array([0, 0, 1, 1, 2, 2, 3, 3, 3, 3, 4, 4, 5]),\n",
       " array([1, 2, 1, 3, 2, 3, 0, 1, 2, 3, 0, 2, 3]))"
      ]
     },
     "execution_count": 6,
     "metadata": {},
     "output_type": "execute_result"
    }
   ],
   "source": [
    "# 返回满足条件的索引，因为是两个维度，所以会返回两组结果\n",
    "np.where(arr > 50)"
   ]
  },
  {
   "cell_type": "code",
   "execution_count": 7,
   "id": "a2a3c4a9",
   "metadata": {},
   "outputs": [
    {
     "data": {
      "text/plain": [
       "array([[-1, 77, 65, -1],\n",
       "       [-1, 86, -1, 70],\n",
       "       [-1, -1, 53, 97],\n",
       "       [73, 76, 72, 78],\n",
       "       [51, -1, 84, -1],\n",
       "       [-1, -1, -1, 92]])"
      ]
     },
     "execution_count": 7,
     "metadata": {},
     "output_type": "execute_result"
    }
   ],
   "source": [
    "# 不满足条件的赋值，将 <=50 的替换为 -1\n",
    "np.where(arr > 50, arr, -1)"
   ]
  },
  {
   "cell_type": "markdown",
   "id": "2759da8d",
   "metadata": {},
   "source": [
    "### 提取\n",
    "\n",
    "⭐\n",
    "\n",
    "在 array 中提取指定条件的值。\n",
    "\n",
    "⚠️ 需要注意的是：提取和唯一值返回的都是一维向量。"
   ]
  },
  {
   "cell_type": "code",
   "execution_count": 8,
   "id": "ea457eae",
   "metadata": {},
   "outputs": [
    {
     "data": {
      "text/plain": [
       "array([77, 65, 86, 70, 53, 97, 73, 76, 72, 78, 51, 84, 92])"
      ]
     },
     "execution_count": 8,
     "metadata": {},
     "output_type": "execute_result"
    }
   ],
   "source": [
    "# 提取指定条件的值\n",
    "np.extract(arr > 50, arr)"
   ]
  },
  {
   "cell_type": "code",
   "execution_count": 9,
   "id": "6273f436",
   "metadata": {},
   "outputs": [
    {
     "data": {
      "text/plain": [
       "array([ 9, 10, 13, 19, 20, 37, 43, 44, 45, 50, 51, 53, 65, 70, 72, 73, 76,\n",
       "       77, 78, 84, 86, 92, 97])"
      ]
     },
     "execution_count": 9,
     "metadata": {},
     "output_type": "execute_result"
    }
   ],
   "source": [
    "# 唯一值，是另一种形式的提取\n",
    "np.unique(arr)"
   ]
  },
  {
   "cell_type": "markdown",
   "id": "6cbbb8c3",
   "metadata": {},
   "source": [
    "### 抽样\n",
    "\n",
    "⭐⭐⭐⭐⭐\n",
    "\n",
    "我们在跑模型时常常需要使用部分数据对整个过程快速验证，您当然可以使用 `np.random` 生成模拟数据。但有真实数据时，从真实数据中随机抽样会比较好。\n",
    "\n",
    "⚠️ 需要注意的是：抽样的集合要求为一维向量（一般是数据的 index）。"
   ]
  },
  {
   "cell_type": "code",
   "execution_count": 36,
   "id": "f1317330",
   "metadata": {},
   "outputs": [
    {
     "data": {
      "text/plain": [
       "array(['vivras', 'sola', 'vida', 'la'], dtype='<U6')"
      ]
     },
     "execution_count": 36,
     "metadata": {},
     "output_type": "execute_result"
    }
   ],
   "source": [
    "rng = np.random.default_rng()\n",
    "# 第一个参数是要抽样的集合，如果是一个整数，则表示从 0 到该值\n",
    "# 第二个参数是样本大小\n",
    "# 第三个参数表示结果是否可以重复\n",
    "# 第四个参数表示出现的概率，长度和第一个参数一样\n",
    "\n",
    "# 由于（0 1 2 3）中 2 和 3 的概率比较高，自然就选择了 2 和 3\n",
    "rng.choice(4, 2, replace=False, p=[0.1, 0.2, 0.3, 0.4])\n",
    "lst = [\"la\", \"vida\", \"sola\", \"vivras\"]\n",
    "rng.choice(lst, 4, replace=False)"
   ]
  },
  {
   "cell_type": "code",
   "execution_count": 38,
   "id": "53aa6e15",
   "metadata": {},
   "outputs": [
    {
     "data": {
      "text/plain": [
       "array([2662, 3376, 2014, 7168, 8427, 6363,   99, 7311, 8411, 8792, 2672,\n",
       "       7748, 2516, 1883, 5024,  949, 5835, 8755, 8743, 2405, 8092, 1632,\n",
       "        295, 9851, 8405, 1652, 8930,   12, 3953, 5475,  694, 6834,  584,\n",
       "       2610,  797, 4306, 5710, 9451, 3852, 9785, 8391, 4931, 2514, 8916,\n",
       "       1317, 5859, 5602, 2338, 6438, 3890])"
      ]
     },
     "execution_count": 38,
     "metadata": {},
     "output_type": "execute_result"
    }
   ],
   "source": [
    "# 旧的 API\n",
    "# 如果是抽样语料的 index，更多的方法是这样：\n",
    "data_size = 10000\n",
    "np.random.choice(data_size, 50, replace=False)"
   ]
  },
  {
   "cell_type": "markdown",
   "id": "afdd308a",
   "metadata": {},
   "source": [
    "### 最值 Index\n",
    "\n",
    "⭐⭐⭐⭐⭐\n",
    "\n",
    "这小节主要是两个 API：`np.argmax(min)` 和 `np.argsort`，当然最常用的还是第一个，不用说，自然是可以（需要）指定 axis 的。"
   ]
  },
  {
   "cell_type": "code",
   "execution_count": 39,
   "id": "efcad81f",
   "metadata": {},
   "outputs": [
    {
     "data": {
      "text/plain": [
       "array([[77.62164881, 44.44896554, 86.00119407, 70.03943488],\n",
       "       [10.32355744, 97.58661281, 76.3528305 , 78.82036622],\n",
       "       [13.68324963, 45.58820785, 37.7090044 , 92.7497339 ]])"
      ]
     },
     "execution_count": 39,
     "metadata": {},
     "output_type": "execute_result"
    }
   ],
   "source": [
    "rng = np.random.default_rng(42)\n",
    "arr = rng.uniform(1, 100, (3, 4))\n",
    "arr"
   ]
  },
  {
   "cell_type": "markdown",
   "id": "58e074d5",
   "metadata": {},
   "source": [
    "#### `np.argmax/argmin`"
   ]
  },
  {
   "cell_type": "code",
   "execution_count": 40,
   "id": "b11532fb",
   "metadata": {
    "scrolled": true
   },
   "outputs": [
    {
     "data": {
      "text/plain": [
       "5"
      ]
     },
     "execution_count": 40,
     "metadata": {},
     "output_type": "execute_result"
    }
   ],
   "source": [
    "# 所有值中最大值的 Index，基本不这么用\n",
    "np.argmax(arr)"
   ]
  },
  {
   "cell_type": "code",
   "execution_count": 42,
   "id": "26f0ca66",
   "metadata": {},
   "outputs": [
    {
     "data": {
      "text/plain": [
       "array([0, 1, 0, 2])"
      ]
     },
     "execution_count": 42,
     "metadata": {},
     "output_type": "execute_result"
    }
   ],
   "source": [
    "# 按列（axis=0）最大值的 Index\n",
    "np.argmax(arr, axis=0)"
   ]
  },
  {
   "cell_type": "code",
   "execution_count": 43,
   "id": "bbbe8df6",
   "metadata": {},
   "outputs": [
    {
     "data": {
      "text/plain": [
       "array([1, 0, 0])"
      ]
     },
     "execution_count": 43,
     "metadata": {},
     "output_type": "execute_result"
    }
   ],
   "source": [
    "# 按行（axis=1）最小值的 Index\n",
    "np.argmin(arr, axis=1)"
   ]
  },
  {
   "cell_type": "markdown",
   "id": "282ff42a",
   "metadata": {},
   "source": [
    "#### `np.argsort`"
   ]
  },
  {
   "cell_type": "code",
   "execution_count": 47,
   "id": "e055f8c4",
   "metadata": {
    "scrolled": true
   },
   "outputs": [
    {
     "data": {
      "text/plain": [
       "array([[77.62164881, 44.44896554, 86.00119407, 70.03943488],\n",
       "       [10.32355744, 97.58661281, 76.3528305 , 78.82036622],\n",
       "       [13.68324963, 45.58820785, 37.7090044 , 92.7497339 ]])"
      ]
     },
     "execution_count": 47,
     "metadata": {},
     "output_type": "execute_result"
    }
   ],
   "source": [
    "arr"
   ]
  },
  {
   "cell_type": "code",
   "execution_count": 49,
   "id": "edae9497",
   "metadata": {
    "scrolled": true
   },
   "outputs": [
    {
     "ename": "AttributeError",
     "evalue": "'numpy.ndarray' object has no attribute 'reverse'",
     "output_type": "error",
     "traceback": [
      "\u001b[0;31m---------------------------------------------------------------------------\u001b[0m",
      "\u001b[0;31mAttributeError\u001b[0m                            Traceback (most recent call last)",
      "\u001b[1;32m/Users/zhaochen20/Git/powerful-numpy/src/introduction/ch-all.ipynb Cell 65'\u001b[0m in \u001b[0;36m<cell line: 2>\u001b[0;34m()\u001b[0m\n\u001b[1;32m      <a href='vscode-notebook-cell:/Users/zhaochen20/Git/powerful-numpy/src/introduction/ch-all.ipynb#ch0000064?line=0'>1</a>\u001b[0m \u001b[39m# 默认按行（axis=1）排序的索引\u001b[39;00m\n\u001b[0;32m----> <a href='vscode-notebook-cell:/Users/zhaochen20/Git/powerful-numpy/src/introduction/ch-all.ipynb#ch0000064?line=1'>2</a>\u001b[0m np\u001b[39m.\u001b[39;49margsort(arr)\u001b[39m.\u001b[39;49mreverse()\n",
      "\u001b[0;31mAttributeError\u001b[0m: 'numpy.ndarray' object has no attribute 'reverse'"
     ]
    }
   ],
   "source": [
    "# 默认按行（axis=1）排序的索引\n",
    "np.argsort(arr).reverse()"
   ]
  },
  {
   "cell_type": "code",
   "execution_count": 51,
   "id": "07629422",
   "metadata": {
    "scrolled": true
   },
   "outputs": [
    {
     "name": "stdout",
     "output_type": "stream",
     "text": [
      "[[2 0 3 1]\n",
      " [1 3 2 0]\n",
      " [3 1 2 0]]\n",
      "[[1 3 0 2]\n",
      " [0 2 3 1]\n",
      " [0 2 1 3]]\n"
     ]
    }
   ],
   "source": [
    "# 数据按行（axis=1）排序的索引，同上\n",
    "print(np.argsort(-arr, axis=1))\n",
    "print(np.argsort(arr, axis=1))"
   ]
  },
  {
   "cell_type": "code",
   "execution_count": 206,
   "id": "f2db69cb",
   "metadata": {},
   "outputs": [
    {
     "data": {
      "text/plain": [
       "array([[1, 0, 2, 0],\n",
       "       [2, 2, 1, 1],\n",
       "       [0, 1, 0, 2]])"
      ]
     },
     "execution_count": 206,
     "metadata": {},
     "output_type": "execute_result"
    }
   ],
   "source": [
    "# 数据按列（axis=0）排序索引\n",
    "np.argsort(arr, axis=0)"
   ]
  },
  {
   "cell_type": "markdown",
   "id": "77920662",
   "metadata": {},
   "source": [
    "## 矩阵和运算\n",
    "\n",
    "这一节我们将聚焦矩阵和相关的运算，主要包括：\n",
    "\n",
    "- 算术（四则运算及其他基础算术）\n",
    "- 广播\n",
    "- 矩阵相关\n",
    "\n",
    "这些内容其实使用非常普遍，普遍到我们甚至都不会察觉到自己在使用，而且也非常简单。当然，高纬度的计算我们这里并不涉及，但逻辑是一致的，只是更加复杂。"
   ]
  },
  {
   "cell_type": "markdown",
   "id": "0d387c01",
   "metadata": {},
   "source": [
    "### 算术\n",
    "\n",
    "⭐⭐⭐⭐\n",
    "\n",
    "所有的算术函数均可直接运用于 array。\n",
    "\n",
    "⚠️ 需要注意的是：`mod` 运算可以指定多个被除数。"
   ]
  },
  {
   "cell_type": "code",
   "execution_count": 52,
   "id": "4c45a9c7",
   "metadata": {},
   "outputs": [
    {
     "data": {
      "text/plain": [
       "array([[ 2, 15, 13,  9],\n",
       "       [ 9, 17,  2, 14],\n",
       "       [ 4,  2, 11, 19]])"
      ]
     },
     "execution_count": 52,
     "metadata": {},
     "output_type": "execute_result"
    }
   ],
   "source": [
    "rng = np.random.default_rng(42)\n",
    "arr = rng.integers(1, 20, (3, 4))\n",
    "arr"
   ]
  },
  {
   "cell_type": "code",
   "execution_count": 409,
   "id": "58dc28d8",
   "metadata": {},
   "outputs": [
    {
     "data": {
      "text/plain": [
       "array([[ 4, 30, 26, 18],\n",
       "       [18, 34,  4, 28],\n",
       "       [ 8,  4, 22, 38]])"
      ]
     },
     "execution_count": 409,
     "metadata": {},
     "output_type": "execute_result"
    }
   ],
   "source": [
    "# +-*/ 四则运算，就跟两个数字计算一样\n",
    "arr * 2"
   ]
  },
  {
   "cell_type": "code",
   "execution_count": 410,
   "id": "a6c7d7df",
   "metadata": {
    "scrolled": true
   },
   "outputs": [
    {
     "data": {
      "text/plain": [
       "array([[  4, 225, 169,  81],\n",
       "       [ 81, 289,   4, 196],\n",
       "       [ 16,   4, 121, 361]])"
      ]
     },
     "execution_count": 410,
     "metadata": {},
     "output_type": "execute_result"
    }
   ],
   "source": [
    "# 平方也可以\n",
    "arr ** 2"
   ]
  },
  {
   "cell_type": "code",
   "execution_count": 411,
   "id": "06d17ddd",
   "metadata": {
    "scrolled": true
   },
   "outputs": [
    {
     "data": {
      "text/plain": [
       "array([[1.41421356, 3.87298335, 3.60555128, 3.        ],\n",
       "       [3.        , 4.12310563, 1.41421356, 3.74165739],\n",
       "       [2.        , 1.41421356, 3.31662479, 4.35889894]])"
      ]
     },
     "execution_count": 411,
     "metadata": {},
     "output_type": "execute_result"
    }
   ],
   "source": [
    "# 开方\n",
    "np.sqrt(arr)"
   ]
  },
  {
   "cell_type": "code",
   "execution_count": 412,
   "id": "44b969b8",
   "metadata": {
    "scrolled": true
   },
   "outputs": [
    {
     "data": {
      "text/plain": [
       "array([[0.69314718, 2.7080502 , 2.56494936, 2.19722458],\n",
       "       [2.19722458, 2.83321334, 0.69314718, 2.63905733],\n",
       "       [1.38629436, 0.69314718, 2.39789527, 2.94443898]])"
      ]
     },
     "execution_count": 412,
     "metadata": {},
     "output_type": "execute_result"
    }
   ],
   "source": [
    "# log\n",
    "np.log(arr)"
   ]
  },
  {
   "cell_type": "code",
   "execution_count": 53,
   "id": "baea8c89",
   "metadata": {},
   "outputs": [
    {
     "data": {
      "text/plain": [
       "array([[2, 5, 5, 5],\n",
       "       [5, 5, 2, 5],\n",
       "       [4, 2, 5, 5]])"
      ]
     },
     "execution_count": 53,
     "metadata": {},
     "output_type": "execute_result"
    }
   ],
   "source": [
    "# 超过5的都换成5\n",
    "np.minimum(arr, 5)"
   ]
  },
  {
   "cell_type": "code",
   "execution_count": 54,
   "id": "0bfab00d",
   "metadata": {},
   "outputs": [
    {
     "data": {
      "text/plain": [
       "array([[ 5, 15, 13,  9],\n",
       "       [ 9, 17,  5, 14],\n",
       "       [ 5,  5, 11, 19]])"
      ]
     },
     "execution_count": 54,
     "metadata": {},
     "output_type": "execute_result"
    }
   ],
   "source": [
    "# 低于5的都换成5\n",
    "np.maximum(arr, 5)"
   ]
  },
  {
   "cell_type": "code",
   "execution_count": 55,
   "id": "8276452a",
   "metadata": {
    "scrolled": true
   },
   "outputs": [
    {
     "data": {
      "text/plain": [
       "array([[1.41, 3.87, 3.61, 3.  ],\n",
       "       [3.  , 4.12, 1.41, 3.74],\n",
       "       [2.  , 1.41, 3.32, 4.36]])"
      ]
     },
     "execution_count": 55,
     "metadata": {},
     "output_type": "execute_result"
    }
   ],
   "source": [
    "# 四舍五入\n",
    "np.round(np.sqrt(arr), 2)"
   ]
  },
  {
   "cell_type": "code",
   "execution_count": 56,
   "id": "12781ef2",
   "metadata": {},
   "outputs": [
    {
     "data": {
      "text/plain": [
       "array([[1., 3., 3., 3.],\n",
       "       [3., 4., 1., 3.],\n",
       "       [2., 1., 3., 4.]])"
      ]
     },
     "execution_count": 56,
     "metadata": {},
     "output_type": "execute_result"
    }
   ],
   "source": [
    "# floor/ceil\n",
    "np.floor(np.sqrt(arr))"
   ]
  },
  {
   "cell_type": "code",
   "execution_count": 57,
   "id": "31fa5235",
   "metadata": {},
   "outputs": [
    {
     "data": {
      "text/plain": [
       "array([[2., 4., 4., 3.],\n",
       "       [3., 5., 2., 4.],\n",
       "       [2., 2., 4., 5.]])"
      ]
     },
     "execution_count": 57,
     "metadata": {},
     "output_type": "execute_result"
    }
   ],
   "source": [
    "np.ceil(np.sqrt(arr))"
   ]
  },
  {
   "cell_type": "code",
   "execution_count": 58,
   "id": "123064eb",
   "metadata": {
    "scrolled": true
   },
   "outputs": [
    {
     "data": {
      "text/plain": [
       "array([[ 2, 15, 13,  9],\n",
       "       [ 9, 17,  2, 14],\n",
       "       [ 4,  2, 11, 19]])"
      ]
     },
     "execution_count": 58,
     "metadata": {},
     "output_type": "execute_result"
    }
   ],
   "source": [
    "arr"
   ]
  },
  {
   "cell_type": "code",
   "execution_count": 59,
   "id": "7b0fc452",
   "metadata": {},
   "outputs": [
    {
     "data": {
      "text/plain": [
       "array([[2, 0, 1, 0],\n",
       "       [0, 2, 2, 2],\n",
       "       [1, 2, 2, 1]])"
      ]
     },
     "execution_count": 59,
     "metadata": {},
     "output_type": "execute_result"
    }
   ],
   "source": [
    "# mod <=> x % 3\n",
    "np.mod(arr, 3)"
   ]
  },
  {
   "cell_type": "code",
   "execution_count": 85,
   "id": "8e1bba5e",
   "metadata": {
    "scrolled": true
   },
   "outputs": [
    {
     "data": {
      "text/plain": [
       "array([[-3, 10,  8,  4],\n",
       "       [ 4, 12, -3,  9],\n",
       "       [-1, -3,  6, 14]])"
      ]
     },
     "execution_count": 85,
     "metadata": {},
     "output_type": "execute_result"
    }
   ],
   "source": [
    "arr-5"
   ]
  },
  {
   "cell_type": "code",
   "execution_count": 60,
   "id": "ae1567af",
   "metadata": {},
   "outputs": [
    {
     "data": {
      "text/plain": [
       "array([[-1,  5,  5,  1],\n",
       "       [ 1,  5, -1,  5],\n",
       "       [ 0, -1,  5,  5]])"
      ]
     },
     "execution_count": 60,
     "metadata": {},
     "output_type": "execute_result"
    }
   ],
   "source": [
    "# 还可以使用多个被除数\n",
    "np.mod(arr, arr-5)"
   ]
  },
  {
   "cell_type": "markdown",
   "id": "33ebf03f",
   "metadata": {},
   "source": [
    ">关于广播\n",
    "\n",
    "`numpy` 处理不同形状的 array 时使用的手段，极大地方便了使用者。在计算过程中，较小的数组会在较大的数组上进行「广播」，以便适配对方的形状。\n",
    "\n",
    "⚠️ 需要注意的是：广播需要满足对应的形状。"
   ]
  },
  {
   "cell_type": "code",
   "execution_count": 61,
   "id": "d719c2b1",
   "metadata": {},
   "outputs": [
    {
     "data": {
      "text/plain": [
       "array([[ 9, 77, 65, 44],\n",
       "       [43, 86,  9, 70],\n",
       "       [20, 10, 53, 97]])"
      ]
     },
     "execution_count": 61,
     "metadata": {},
     "output_type": "execute_result"
    }
   ],
   "source": [
    "rng = np.random.default_rng(42)\n",
    "a = rng.integers(1, 100, (3, 4))\n",
    "a"
   ]
  },
  {
   "cell_type": "code",
   "execution_count": 63,
   "id": "c95fb2da",
   "metadata": {},
   "outputs": [
    {
     "data": {
      "text/plain": [
       "array([[ 10,  79,  68,  48],\n",
       "       [ 44,  88,  12,  74],\n",
       "       [ 21,  12,  56, 101]])"
      ]
     },
     "execution_count": 63,
     "metadata": {},
     "output_type": "execute_result"
    }
   ],
   "source": [
    "# 广播，后面的被当做 1 行 4 列\n",
    "a + [1,2,3,4]"
   ]
  },
  {
   "cell_type": "code",
   "execution_count": 88,
   "id": "63b07c6e",
   "metadata": {},
   "outputs": [
    {
     "data": {
      "text/plain": [
       "array([[ 10,  78,  66,  45],\n",
       "       [ 45,  88,  11,  72],\n",
       "       [ 23,  13,  56, 100]])"
      ]
     },
     "execution_count": 88,
     "metadata": {},
     "output_type": "execute_result"
    }
   ],
   "source": [
    "# 或者这样广播，后面的被当做 3 行 1 列\n",
    "a + [[1], [2], [3]]"
   ]
  },
  {
   "cell_type": "code",
   "execution_count": 90,
   "id": "de2bc357",
   "metadata": {
    "scrolled": true
   },
   "outputs": [
    {
     "data": {
      "text/plain": [
       "array([[0, 1, 2, 0],\n",
       "       [0, 0, 0, 2],\n",
       "       [0, 0, 2, 1]])"
      ]
     },
     "execution_count": 90,
     "metadata": {},
     "output_type": "execute_result"
    }
   ],
   "source": [
    "# 之前的取余也是可以的\n",
    "np.mod(a, [1,2,3,4])"
   ]
  },
  {
   "cell_type": "markdown",
   "id": "f7b8833e",
   "metadata": {},
   "source": [
    "### 矩阵\n",
    "\n",
    "⭐⭐⭐⭐⭐\n",
    "\n",
    "这一小节主要介绍线性代数中矩阵的处理，我们会介绍几个矩阵相关常用的 API。\n",
    "\n",
    "⚠️ 需要注意的是：`dot` 和 `matmul` 在高维度时表现不同。"
   ]
  },
  {
   "cell_type": "code",
   "execution_count": 3,
   "id": "97f6d4da",
   "metadata": {},
   "outputs": [
    {
     "data": {
      "text/plain": [
       "(array([[1, 7],\n",
       "        [6, 4],\n",
       "        [4, 8]]),\n",
       " array([[1, 7, 2, 1],\n",
       "        [5, 9, 7, 7]]),\n",
       " array([[7, 8, 5],\n",
       "        [2, 8, 5],\n",
       "        [5, 4, 2]]))"
      ]
     },
     "execution_count": 3,
     "metadata": {},
     "output_type": "execute_result"
    }
   ],
   "source": [
    "rng = np.random.default_rng(42)\n",
    "a = rng.integers(1, 10, (3, 2))\n",
    "b = rng.integers(1, 10, (2, 4))\n",
    "c = rng.integers(1, 10, (3, 3))\n",
    "a, b, c"
   ]
  },
  {
   "cell_type": "markdown",
   "id": "99542474",
   "metadata": {},
   "source": [
    "#### `arr.dot`"
   ]
  },
  {
   "cell_type": "code",
   "execution_count": 65,
   "id": "9ace36a0",
   "metadata": {
    "scrolled": false
   },
   "outputs": [
    {
     "data": {
      "text/plain": [
       "array([[ 36,  70,  51,  50],\n",
       "       [ 26,  78,  40,  34],\n",
       "       [ 44, 100,  64,  60]])"
      ]
     },
     "execution_count": 65,
     "metadata": {},
     "output_type": "execute_result"
    }
   ],
   "source": [
    "# array 乘法\n",
    "# 矩阵乘法\n",
    "np.dot(a, b)"
   ]
  },
  {
   "cell_type": "code",
   "execution_count": 66,
   "id": "a452bd60",
   "metadata": {},
   "outputs": [
    {
     "data": {
      "text/plain": [
       "array([[ 36,  70,  51,  50],\n",
       "       [ 26,  78,  40,  34],\n",
       "       [ 44, 100,  64,  60]])"
      ]
     },
     "execution_count": 66,
     "metadata": {},
     "output_type": "execute_result"
    }
   ],
   "source": [
    "# 或者这样乘\n",
    "a.dot(b)"
   ]
  },
  {
   "cell_type": "code",
   "execution_count": 17,
   "id": "0109aebc",
   "metadata": {
    "scrolled": true
   },
   "outputs": [
    {
     "name": "stdout",
     "output_type": "stream",
     "text": [
      "[[[1 7 6]\n",
      "  [4 4 8]\n",
      "  [1 7 2]]\n",
      "\n",
      " [[1 5 9]\n",
      "  [7 7 7]\n",
      "  [8 5 2]]]\n",
      "[[[8 5 5 4]\n",
      "  [2 9 8 6]\n",
      "  [4 8 5 4]]\n",
      "\n",
      " [[5 3 1 5]\n",
      "  [8 1 8 8]\n",
      "  [3 6 2 7]]]\n",
      "[[[[ 46 116  91  70]\n",
      "   [ 79  46  69 103]]\n",
      "\n",
      "  [[ 72 120  92  72]\n",
      "   [ 76  64  52 108]]\n",
      "\n",
      "  [[ 30  84  71  54]\n",
      "   [ 67  22  61  75]]]\n",
      "\n",
      "\n",
      " [[[ 54 122  90  70]\n",
      "   [ 72  62  59 108]]\n",
      "\n",
      "  [[ 98 154 126  98]\n",
      "   [112  70  77 140]]\n",
      "\n",
      "  [[ 82 101  90  70]\n",
      "   [ 86  41  52  94]]]] (2, 3, 2, 4)\n",
      "[[[ 46 116  91  70]\n",
      "  [ 72 120  92  72]\n",
      "  [ 30  84  71  54]]\n",
      "\n",
      " [[ 72  62  59 108]\n",
      "  [112  70  77 140]\n",
      "  [ 86  41  52  94]]] (2, 3, 4)\n"
     ]
    }
   ],
   "source": [
    "# 我们看下高维度下 dot 和 matmul 的区别\n",
    "# ijk, lkm -> ijlm\n",
    "rng = np.random.default_rng(42)\n",
    "a = rng.integers(1, 10, (2, 3, 3))\n",
    "b = rng.integers(1, 10, (2, 3, 4))\n",
    "print(a)\n",
    "print(b)\n",
    "c = np.dot(a, b)\n",
    "d = np.matmul(a, b)\n",
    "print(c, c.shape)\n",
    "print(d, d.shape)"
   ]
  },
  {
   "cell_type": "markdown",
   "id": "b9cf9b90",
   "metadata": {},
   "source": [
    "#### `np.matmul`"
   ]
  },
  {
   "cell_type": "code",
   "execution_count": 394,
   "id": "60eaafef",
   "metadata": {},
   "outputs": [
    {
     "data": {
      "text/plain": [
       "array([[ 36,  70,  51,  50],\n",
       "       [ 26,  78,  40,  34],\n",
       "       [ 44, 100,  64,  60]])"
      ]
     },
     "execution_count": 394,
     "metadata": {},
     "output_type": "execute_result"
    }
   ],
   "source": [
    "# 矩阵乘法\n",
    "# 与 dot 的主要区别是：matmul 矩阵（好像元素一样）堆叠在一起广播\n",
    "np.matmul(a, b)"
   ]
  },
  {
   "cell_type": "code",
   "execution_count": 93,
   "id": "233cb9bc",
   "metadata": {
    "scrolled": true
   },
   "outputs": [
    {
     "data": {
      "text/plain": [
       "array([[ 36,  70,  51,  50],\n",
       "       [ 26,  78,  40,  34],\n",
       "       [ 44, 100,  64,  60]])"
      ]
     },
     "execution_count": 93,
     "metadata": {},
     "output_type": "execute_result"
    }
   ],
   "source": [
    "# 同上，写起来比较好看的方法\n",
    "a @ b"
   ]
  },
  {
   "cell_type": "code",
   "execution_count": 14,
   "id": "78af6411",
   "metadata": {},
   "outputs": [
    {
     "data": {
      "text/plain": [
       "(5, 2, 6)"
      ]
     },
     "execution_count": 14,
     "metadata": {},
     "output_type": "execute_result"
    }
   ],
   "source": [
    "# ijk, ikl -> ijl\n",
    "np.matmul(np.ones((5, 2, 3)), np.ones((5, 3, 6))).shape"
   ]
  },
  {
   "cell_type": "code",
   "execution_count": 96,
   "id": "8e013324",
   "metadata": {},
   "outputs": [
    {
     "data": {
      "text/plain": [
       "(4, 2, 6)"
      ]
     },
     "execution_count": 96,
     "metadata": {},
     "output_type": "execute_result"
    }
   ],
   "source": [
    "# ijk, ikl -> ijl\n",
    "np.matmul(np.ones((4, 2, 3)), np.ones((4, 3, 6))).shape"
   ]
  },
  {
   "cell_type": "markdown",
   "id": "f7743a11",
   "metadata": {},
   "source": [
    "---"
   ]
  },
  {
   "cell_type": "code",
   "execution_count": 256,
   "id": "a29d2de9",
   "metadata": {},
   "outputs": [
    {
     "data": {
      "text/plain": [
       "182"
      ]
     },
     "execution_count": 256,
     "metadata": {},
     "output_type": "execute_result"
    }
   ],
   "source": [
    "# 点积\n",
    "np.vdot(a, a)"
   ]
  },
  {
   "cell_type": "code",
   "execution_count": 281,
   "id": "e598425b",
   "metadata": {
    "code_folding": []
   },
   "outputs": [
    {
     "data": {
      "text/plain": [
       "182"
      ]
     },
     "execution_count": 281,
     "metadata": {},
     "output_type": "execute_result"
    }
   ],
   "source": [
    "# 对，就是点积\n",
    "np.sum(a*a)"
   ]
  },
  {
   "cell_type": "code",
   "execution_count": 258,
   "id": "ae6fb841",
   "metadata": {
    "scrolled": true
   },
   "outputs": [
    {
     "data": {
      "text/plain": [
       "array([[50, 34, 60],\n",
       "       [34, 52, 56],\n",
       "       [60, 56, 80]])"
      ]
     },
     "execution_count": 258,
     "metadata": {},
     "output_type": "execute_result"
    }
   ],
   "source": [
    "# 内积\n",
    "np.inner(a, a)"
   ]
  },
  {
   "cell_type": "code",
   "execution_count": 282,
   "id": "9424cd1d",
   "metadata": {},
   "outputs": [
    {
     "data": {
      "text/plain": [
       "array([[50, 34, 60],\n",
       "       [34, 52, 56],\n",
       "       [60, 56, 80]])"
      ]
     },
     "execution_count": 282,
     "metadata": {},
     "output_type": "execute_result"
    }
   ],
   "source": [
    "# 对，就是内积\n",
    "a.dot(a.T)"
   ]
  },
  {
   "cell_type": "code",
   "execution_count": 283,
   "id": "3f88d4c4",
   "metadata": {},
   "outputs": [
    {
     "data": {
      "text/plain": [
       "-19.999999999999996"
      ]
     },
     "execution_count": 283,
     "metadata": {},
     "output_type": "execute_result"
    }
   ],
   "source": [
    "# 行列式\n",
    "np.linalg.det(c)"
   ]
  },
  {
   "cell_type": "code",
   "execution_count": 284,
   "id": "ec8c2ab0",
   "metadata": {
    "scrolled": true
   },
   "outputs": [
    {
     "data": {
      "text/plain": [
       "array([[ 0.2 , -0.2 ,  0.  ],\n",
       "       [-1.05,  0.55,  1.25],\n",
       "       [ 1.6 , -0.6 , -2.  ]])"
      ]
     },
     "execution_count": 284,
     "metadata": {},
     "output_type": "execute_result"
    }
   ],
   "source": [
    "# 逆矩阵（方阵）\n",
    "np.linalg.inv(c)"
   ]
  },
  {
   "cell_type": "markdown",
   "id": "b7c24e84",
   "metadata": {},
   "source": [
    "## 小结和心得\n",
    "\n",
    "恭喜你学完了 Numpy 从入门到入坟的教程，相信有此基础你在日后足以应付绝大部分的使用场景。如果你还想继续深入学习 Numpy，欢迎阅读此书籍[《Python 数据科学手册》](https://zhaochenyang20.github.io/pdf/DS_tutorial.pdf)：\n",
    "\n",
    "\n",
    "### 内容小结\n",
    "\n",
    "本教程共六个部分，我们把最重要的一些 API 罗列出来，加深印象：\n",
    "\n",
    "- 创建和生成\n",
    "  - `np.linspace(start, end, nums)`\n",
    "  - `rng.integers/uniform(low, high, size)`\n",
    "  - `rng.normal(loc, scale, size)`\n",
    "- 统计和属性\n",
    "  - `arr.shape`\n",
    "  - `arr.sum/max/min(axis, keepdims)`\n",
    "  - `np.average(arr, axis)`\n",
    "- 形状和转换\n",
    "  - `arr.reshpae/np.reshape`\n",
    "  - `np.expand_dims(arr, axis)`\n",
    "  - `np.squeeze(arr axis)`\n",
    "  - `np.transpose(arr, axis)`\n",
    "  - `arr.T`\n",
    "- 分解和组合\n",
    "  - `arr[start:stop:step, ...]`\n",
    "  - `np.concatenate((arr1, arr2), axis)`\n",
    "  - `np.stack((arr1, arr2), axis)`\n",
    "  - `np.repeat(arr, repeat_num, axis)`\n",
    "  - `np.split(arr, part_num, axis)`\n",
    "- 筛选和过滤\n",
    "  - `np.where(condition, arr, replaced_val)`\n",
    "  - `rng.choice(a, size, replace=False, p=probs_size_equals_a)`\n",
    "  - `rng.argmax/argmin/argsort(arr, axis)`\n",
    "- 矩阵和计算\n",
    "  - `+-*/`\n",
    "  - `np.dot(a, b) == a.dot(b)`\n",
    "  - `np.matmul(a, b) == a @ b`\n",
    "\n",
    "\n",
    "### 心得技巧\n",
    "\n",
    "- 生成/查看 array 时，注意具体的数据类型\n",
    "- 很多 API 都有 axis，将它理解为「沿着」或「对」某一维度进行操作就很容易理解了"
   ]
  },
  {
   "cell_type": "markdown",
   "id": "76c482cc",
   "metadata": {},
   "source": [
    "## 巩固和练习\n",
    "\n",
    "接下来，是时候对学到的成果进行一番检验了，为此我们给您准备了两个小菜和一分多餐，请尽情享用。\n",
    "\n",
    "背景描述：使用 iris 数据集，target 选择 0 和 1（setosa, versicolor），丢弃 2（我们只用二分类就可以了）\n",
    "\n",
    "### 基础题目1\n",
    "\n",
    "切分数据，要求如下：\n",
    "\n",
    "- 针对每一 target，分别按 80%/20% 将数据切分为训练数据和测试数据\n",
    "- 切分时要求每 5 个样本，取中间的 1 个为测试数据，其余为训练数据\n",
    "\n",
    "### 基础题目2\n",
    "\n",
    "预测结果，要求如下：\n",
    "\n",
    "- 加载预先在训练数据上训练好的权重参数（存储参数的方法：`np.savez(\"data/weight\", weight=weight)`）\n",
    "- 使用模型 `sigmoid(W·X)` 对测试数据进行预测\n",
    "- 输出预测的准确率\n",
    "\n",
    "\n",
    "### 进阶题目\n",
    "\n",
    "如果您已经对机器学习有了一定基础，不妨试试这个练习，它会使用更多 `numpy` 的 API。\n",
    "\n",
    "使用 Numpy 实现简单神经网络，要求如下：\n",
    "\n",
    "- 特征选择第 2 个和第 4 个（sepal width, petal width）\n",
    "- 使用反向传播和梯度下降进行学习\n",
    "\n",
    "\n",
    "\n",
    "提示：\n",
    "\n",
    "```python\n",
    "# 数据集\n",
    "from sklearn.datasets import load_iris\n",
    "\n",
    "iris = load_iris()\n",
    "data = iris[\"data\"]\n",
    "target = iris[\"target\"]\n",
    "\n",
    "# Sigmoid\n",
    "def sigmoid(x: np.array, derive: bool = False) -> np.array:\n",
    "    if derive:\n",
    "        return x * (1 - x)\n",
    "    return 1 / (1 + np.exp(-x))\n",
    "```"
   ]
  },
  {
   "cell_type": "markdown",
   "id": "21982f33",
   "metadata": {},
   "source": [
    "## 解答和参考\n",
    "\n",
    "以下是练习题的参考解答。既然是参考，那就一定不是标准，您可以使用任意方式实现最终的目的得到答案。如果您愿意，使用 for 循环也是可以的，但如果最终的答案不对，还是需要重新检查一下。我们特别重视和关注过程，但结果更加重要，条条道路通罗马，咱最后得到罗马不是？\n",
    "\n",
    "最后再引用《Unix 编程艺术》中的一个观点：先让程序「正确地」运行起来。完成>完美，健康才能快乐。"
   ]
  },
  {
   "cell_type": "code",
   "execution_count": 21,
   "id": "77c89ca7",
   "metadata": {},
   "outputs": [],
   "source": [
    "def sigmoid(x: np.array, derive: bool = False) -> np.array:\n",
    "    # 求导数（用于反向传播）\n",
    "    if derive:\n",
    "        return x * (1 - x)\n",
    "    return 1 / (1 + np.exp(-x))"
   ]
  },
  {
   "cell_type": "code",
   "execution_count": 23,
   "id": "18fa2c0e",
   "metadata": {},
   "outputs": [],
   "source": [
    "from sklearn.datasets import load_iris\n",
    "\n",
    "# 加载 iris 数据集\n",
    "iris = load_iris()\n",
    "# 提取 target ≤ 1 的 target，并将维度从 (length, ) 拓展为 (length, 1)\n",
    "y = np.expand_dims(np.extract(iris[\"target\"] <= 1, iris[\"target\"]), 1)\n",
    "# 根据 y 的 size 拿到对应的 x\n",
    "x = iris[\"data\"][:y.shape[0]]"
   ]
  },
  {
   "cell_type": "markdown",
   "id": "71ef6e55",
   "metadata": {},
   "source": [
    "### 基础题目1"
   ]
  },
  {
   "cell_type": "code",
   "execution_count": 43,
   "id": "7dc1fbad",
   "metadata": {},
   "outputs": [],
   "source": [
    "# 有多少条数据\n",
    "data_size = x.shape[0]\n",
    "# 20% 作为测试数据\n",
    "test_size = int(data_size * 0.2)\n",
    "# 找到测试数据的 index\n",
    "test_idx = [2 + i*5 for i in range(test_size)]\n",
    "# 过滤掉测试数据的 index，剩下的就是训练数据的 index\n",
    "train_idx = [i for i in range(data_size) if i not in test_idx]"
   ]
  },
  {
   "cell_type": "code",
   "execution_count": 48,
   "id": "31efe769",
   "metadata": {},
   "outputs": [],
   "source": [
    "# 使用训练数据的 index 得到训练数据\n",
    "x_train = x[train_idx]\n",
    "y_train = y[train_idx]\n",
    "# 直接使用索引切片得到测试数据，当然也可以使用测试数据 index\n",
    "x_test = x[2: data_size : 5]\n",
    "y_test = y[2: data_size : 5]"
   ]
  },
  {
   "cell_type": "markdown",
   "id": "c29d4c6d",
   "metadata": {},
   "source": [
    "### 基础题目2"
   ]
  },
  {
   "cell_type": "code",
   "execution_count": 79,
   "id": "e1004315",
   "metadata": {},
   "outputs": [],
   "source": [
    "# 预测函数\n",
    "def predict(x, w):\n",
    "    return sigmoid(x.dot(w))"
   ]
  },
  {
   "cell_type": "code",
   "execution_count": 125,
   "id": "9735579b",
   "metadata": {},
   "outputs": [],
   "source": [
    "# 加载权重，注意 key=\"weight\"\n",
    "w = np.load(\"./data/weight.npz\")[\"weight\"]"
   ]
  },
  {
   "cell_type": "code",
   "execution_count": 126,
   "id": "bd2f3f50",
   "metadata": {},
   "outputs": [],
   "source": [
    "# 拿到 sigmoid 的结果，即 probability\n",
    "prob = predict(x_test, w)"
   ]
  },
  {
   "cell_type": "code",
   "execution_count": 127,
   "id": "ca94ce53",
   "metadata": {},
   "outputs": [
    {
     "data": {
      "text/plain": [
       "array([1.])"
      ]
     },
     "execution_count": 127,
     "metadata": {},
     "output_type": "execute_result"
    }
   ],
   "source": [
    "# >（或 ≥）0.5 作为 1 或 0 的标准\n",
    "sum((prob > 0.5) == y_test) / len(y_test)"
   ]
  },
  {
   "cell_type": "markdown",
   "id": "35942bba",
   "metadata": {},
   "source": [
    "### 进阶题目"
   ]
  },
  {
   "cell_type": "code",
   "execution_count": 130,
   "id": "2658a013",
   "metadata": {
    "scrolled": true
   },
   "outputs": [],
   "source": [
    "# 只取第2和第4个特征\n",
    "x_train_part = x_train[:, [1, 3]]\n",
    "x_test_part = x_test[:, [1, 3]]"
   ]
  },
  {
   "cell_type": "code",
   "execution_count": 131,
   "id": "47e830bb",
   "metadata": {},
   "outputs": [],
   "source": [
    "def test(x, y, wh, wo, use_hidden: bool = False):\n",
    "    \"\"\"\n",
    "    预测函数，如果使用隐层的话，需要增加对应的计算\n",
    "    \"\"\"\n",
    "    if use_hidden:\n",
    "        ypred = sigmoid(sigmoid(x.dot(wh)).dot(wo))\n",
    "    else:\n",
    "        ypred = sigmoid(x.dot(wo))\n",
    "    print(\"Acc: %.2f\" % (sum((ypred >= 0.5 ) == y) / len(y))[0])"
   ]
  },
  {
   "cell_type": "code",
   "execution_count": 132,
   "id": "fac3b69d",
   "metadata": {},
   "outputs": [],
   "source": [
    "def train(x, y, use_hidden: bool = False, lr: float = 0.01):\n",
    "    \"\"\"\n",
    "    训练函数，可以支持单隐层或无隐层\n",
    "    \"\"\"\n",
    "    hidden_size = 8 if use_hidden else x.shape[1]\n",
    "    # 初始化，可以有多种初始化方式，我们这里使用 uniform\n",
    "    wh = np.random.uniform(-np.sqrt(1/hidden_size), np.sqrt(1/hidden_size), (x.shape[1], hidden_size))\n",
    "    wo = np.random.uniform(-1, 1, (hidden_size, 1))\n",
    "    # 1000 个 Epoch\n",
    "    for epoch in range(1, 1001):\n",
    "        # 使用隐层\n",
    "        if use_hidden:\n",
    "            hidden = np.dot(x, wh)\n",
    "            hidden = sigmoid(hidden)\n",
    "        else:\n",
    "            hidden = x\n",
    "        logits = np.dot(hidden, wo)\n",
    "        pred = sigmoid(logits)\n",
    "        \n",
    "        # 输出层的 error\n",
    "        pred_err = y - pred\n",
    "        # 反向传播，输出层的更新权重\n",
    "        pred_delta = pred_err * sigmoid(pred, True)\n",
    "        if use_hidden:\n",
    "            # 隐层的 error 和更新权重\n",
    "            hidd_err = pred_delta.dot(wo.T)\n",
    "            hidd_delta = hidd_err * sigmoid(hidden, True)\n",
    "        \n",
    "        # 更新参数\n",
    "        wo += lr * hidden.T.dot(pred_delta)\n",
    "        if use_hidden:\n",
    "            wh += lr * x.T.dot(hidd_delta)\n",
    "\n",
    "        # 计算损失\n",
    "        loss = np.mean(np.abs(pred_err))\n",
    "        if epoch % 200 == 0:\n",
    "            # 如果有验证集，可以在这里对验证集进行验证，结果有提升（如 loss下降或 acc 提高）时进行存储\n",
    "            # 还可以根据结果提升情况设计自动提前终止的方案（比如连续 3 次不再提升）\n",
    "            print(\"Error:\" + str(loss))\n",
    "    \n",
    "    # 得到训练集的 Acc\n",
    "    test(x, y, wh, wo, use_hidden)\n",
    "    # 返回权重（参数）\n",
    "    return wh, wo"
   ]
  },
  {
   "cell_type": "code",
   "execution_count": 134,
   "id": "b37252bb",
   "metadata": {
    "scrolled": true
   },
   "outputs": [
    {
     "name": "stdout",
     "output_type": "stream",
     "text": [
      "Error:0.12291230663724437\n",
      "Error:0.08282596392702782\n",
      "Error:0.06586770282341464\n",
      "Error:0.056016204876575326\n",
      "Error:0.049407934168643926\n",
      "Acc: 1.00\n"
     ]
    }
   ],
   "source": [
    "wh, wo = train(x_train_part, y_train)"
   ]
  },
  {
   "cell_type": "code",
   "execution_count": 135,
   "id": "04baec94",
   "metadata": {},
   "outputs": [
    {
     "name": "stdout",
     "output_type": "stream",
     "text": [
      "Acc: 1.00\n"
     ]
    }
   ],
   "source": [
    "test(x_test_part, y_test, wh, wo)"
   ]
  },
  {
   "cell_type": "code",
   "execution_count": 136,
   "id": "4aaad64a",
   "metadata": {},
   "outputs": [
    {
     "name": "stdout",
     "output_type": "stream",
     "text": [
      "Error:0.16416415380726673\n",
      "Error:0.08236885703184059\n",
      "Error:0.058163838923958065\n",
      "Error:0.04626498346103437\n",
      "Error:0.03903864391270989\n",
      "Acc: 1.00\n"
     ]
    }
   ],
   "source": [
    "wh, wo = train(x_train_part, y_train, True)"
   ]
  },
  {
   "cell_type": "code",
   "execution_count": 137,
   "id": "ed214908",
   "metadata": {},
   "outputs": [
    {
     "name": "stdout",
     "output_type": "stream",
     "text": [
      "Acc: 1.00\n"
     ]
    }
   ],
   "source": [
    "test(x_test_part, y_test, wh, wo, True)"
   ]
  }
 ],
 "metadata": {
  "kernelspec": {
   "display_name": "Python 3.8.12 ('analysis')",
   "language": "python",
   "name": "python3"
  },
  "language_info": {
   "codemirror_mode": {
    "name": "ipython",
    "version": 3
   },
   "file_extension": ".py",
   "mimetype": "text/x-python",
   "name": "python",
   "nbconvert_exporter": "python",
   "pygments_lexer": "ipython3",
   "version": "3.8.12"
  },
  "orig_nbformat": 4,
  "vscode": {
   "interpreter": {
    "hash": "dabd46d0b105194b6037154245f7bac3849b5735b43b605ee603f76a866d6105"
   }
  }
 },
 "nbformat": 4,
 "nbformat_minor": 2
}

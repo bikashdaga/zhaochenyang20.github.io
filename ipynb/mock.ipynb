{
 "cells": [
  {
   "cell_type": "markdown",
   "metadata": {},
   "source": []
  },
  {
   "cell_type": "code",
   "execution_count": 1,
   "metadata": {},
   "outputs": [],
   "source": [
    "import numpy as np\n",
    "from typing import List\n",
    "def normal(exp:float, var:float) -> List[float]:\n",
    "    return np.random.normal(exp, var, 127)\n",
    "\n",
    "def noise() -> float:\n",
    "    return np.random.normal(0, 1, 1)[0]\n",
    "\n",
    "def curve(target:List[float]) -> List[float]:\n",
    "    tempList = []\n",
    "    for each in target:\n",
    "        each = int(round(each + noise(), 0))\n",
    "        if each <= 0:\n",
    "            each = 0\n",
    "        elif each >= 5:\n",
    "            each = 5\n",
    "        tempList.append(each)\n",
    "    return tempList"
   ]
  },
  {
   "cell_type": "code",
   "execution_count": 2,
   "metadata": {},
   "outputs": [],
   "source": [
    "def generate(target:List[List]) -> List[List]:\n",
    "    mocker = []\n",
    "    for each in target:\n",
    "        mocker.append(curve(normal(each[0], each[1])))\n",
    "    return mocker"
   ]
  },
  {
   "cell_type": "code",
   "execution_count": 3,
   "metadata": {},
   "outputs": [],
   "source": [
    "autoVoiceData = []\n",
    "autoVoiceData.append([4.286, 1.734])\n",
    "autoVoiceData.append([4.377, 2.231])\n",
    "autoVoiceData.append([4.832, 0.789])\n",
    "autoVoiceData.append([3.934, 1.176])\n",
    "\n",
    "autoVoiceMocker = generate(autoVoiceData)"
   ]
  },
  {
   "cell_type": "code",
   "execution_count": 4,
   "metadata": {},
   "outputs": [],
   "source": [
    "selfVoiceData = []\n",
    "selfVoiceData.append([3.335, 5.107])\n",
    "selfVoiceData.append([3.565, 4.573])\n",
    "selfVoiceData.append([4.914, 0.123])\n",
    "selfVoiceData.append([4.547, 0.145])\n",
    "\n",
    "selfVoiceMocker = generate(selfVoiceData)"
   ]
  },
  {
   "cell_type": "code",
   "execution_count": 5,
   "metadata": {},
   "outputs": [],
   "source": [
    "autoDeviceData = []\n",
    "autoDeviceData.append([4.254, 1.734])\n",
    "autoDeviceData.append([3.943, 2.262])\n",
    "autoDeviceData.append([4.715, 0.763])\n",
    "autoDeviceData.append([2.935, 5.198])\n",
    "\n",
    "autoDeviceMocker = generate(autoDeviceData)"
   ]
  },
  {
   "cell_type": "code",
   "execution_count": 6,
   "metadata": {},
   "outputs": [],
   "source": [
    "selfDeviceData = []\n",
    "selfDeviceData.append([2.457, 7.354])\n",
    "selfDeviceData.append([1.234, 9.256])\n",
    "selfDeviceData.append([2.321, 5.533])\n",
    "selfDeviceData.append([0.935, 2.686])\n",
    "\n",
    "selfDeviceMocker = generate(selfDeviceData)"
   ]
  },
  {
   "cell_type": "code",
   "execution_count": 7,
   "metadata": {},
   "outputs": [],
   "source": [
    "from collections import Counter\n",
    "import matplotlib.pyplot as plt\n",
    "def drawer(mocker:List[List[int]]):\n",
    "    for each in mocker:\n",
    "        counter = Counter(each)\n",
    "        x = range(0, 6)\n",
    "        y = [counter[each] for each in x]\n",
    "        plt.bar(x, y, alpha=0.6)\n",
    "        plt.show()"
   ]
  },
  {
   "cell_type": "markdown",
   "metadata": {},
   "source": [
    "# 数据来源\n",
    "\n",
    "## 自动调整音量\n",
    "\n",
    "| 数据   | 期望  | 方差  |\n",
    "| ------ | ----- | ----- |\n",
    "| 自然性 | 4.286 | 1.734 |\n",
    "| 易用性 | 4.377 | 2.231 |\n",
    "| 鲁邦性 | 4.832 | 0.789 |\n",
    "| 舒适性 | 3.934 | 1.176 |\n",
    "\n",
    "## 自动切换设备\n",
    "\n",
    "| 数据   | 期望  | 方差  |\n",
    "| ------ | ----- | ----- |\n",
    "| 自然性 | 4.254 | 1.734 |\n",
    "| 易用性 | 3.943 | 2.262 |\n",
    "| 鲁邦性 | 4.715 | 0.763 |\n",
    "| 舒适性 | 2.935 | 5.198 |\n",
    "\n",
    "## 手动调整声音\n",
    "\n",
    "| 数据   | 期望  | 方差  |\n",
    "| ------ | ----- | ----- |\n",
    "| 自然性 | 3.335 | 5.107 |\n",
    "| 易用性 | 3.565 | 4.573 |\n",
    "| 鲁邦性 | 4.914 | 0.123 |\n",
    "| 舒适性 | 4.547 | 0.145 |\n",
    "\n",
    "## 手动切换设备\n",
    "\n",
    "| 数据   | 期望  | 方差  |\n",
    "| ------ | ----- | ----- |\n",
    "| 自然性 | 2.457 | 7.734 |\n",
    "| 易用性 | 1.943 | 9.256 |\n",
    "| 鲁邦性 | 2.715 | 5.533 |\n",
    "| 舒适性 | 0.935 | 2.686 |\n",
    "\n",
    "# 数据意义\n",
    "从上到下有四组图片，第一组图片代表自动调整声音，第二组为手动调整声音，第三组为自动调整设备，第四组为手动调整设备\n",
    "每组图片内，显示自然性，易用性，鲁棒性，舒适性的分布，一共 127 个数据点。\n",
    "首先使用 numpy 模拟了如上图的正态分布，随后加入了参数为 $(0,1)$ 的正态随机噪音。然后按照整数位四舍五入，同时限定范围在 $[0 ,5]$ 之间的整数点。\n"
   ]
  },
  {
   "cell_type": "code",
   "execution_count": 8,
   "metadata": {
    "lang": "en"
   },
   "outputs": [
    {
     "data": {
      "image/png": "[encoded data removed]",
      "text/plain": [
       "<Figure size 432x288 with 1 Axes>"
      ]
     },
     "metadata": {
      "needs_background": "light"
     },
     "output_type": "display_data"
    },
    {
     "data": {
      "image/png": "[encoded data removed]",
      "text/plain": [
       "<Figure size 432x288 with 1 Axes>"
      ]
     },
     "metadata": {
      "needs_background": "light"
     },
     "output_type": "display_data"
    },
    {
     "data": {
      "image/png": "[encoded data removed]",
      "text/plain": [
       "<Figure size 432x288 with 1 Axes>"
      ]
     },
     "metadata": {
      "needs_background": "light"
     },
     "output_type": "display_data"
    },
    {
     "data": {
      "image/png": "[encoded data removed]",
      "text/plain": [
       "<Figure size 432x288 with 1 Axes>"
      ]
     },
     "metadata": {
      "needs_background": "light"
     },
     "output_type": "display_data"
    }
   ],
   "source": [
    "autoVoice = drawer(autoVoiceMocker)"
   ]
  },
  {
   "cell_type": "markdown",
   "metadata": {
    "lang": "fr"
   },
   "source": [
    "x = tiroir(autoVoiceMocker)"
   ]
  },
  {
   "cell_type": "markdown",
   "metadata": {
    "lang": "fr"
   },
   "source": [
    "x = tiroir(autoVoiceMocker)"
   ]
  },
  {
   "cell_type": "code",
   "execution_count": 9,
   "metadata": {},
   "outputs": [
    {
     "data": {
      "image/png": "[encoded data removed]",
      "text/plain": [
       "<Figure size 432x288 with 1 Axes>"
      ]
     },
     "metadata": {
      "needs_background": "light"
     },
     "output_type": "display_data"
    },
    {
     "data": {
      "image/png": "[encoded data removed]",
      "text/plain": [
       "<Figure size 432x288 with 1 Axes>"
      ]
     },
     "metadata": {
      "needs_background": "light"
     },
     "output_type": "display_data"
    },
    {
     "data": {
      "image/png": "[encoded data removed]",
      "text/plain": [
       "<Figure size 432x288 with 1 Axes>"
      ]
     },
     "metadata": {
      "needs_background": "light"
     },
     "output_type": "display_data"
    },
    {
     "data": {
      "image/png": "[encoded data removed]",
      "text/plain": [
       "<Figure size 432x288 with 1 Axes>"
      ]
     },
     "metadata": {
      "needs_background": "light"
     },
     "output_type": "display_data"
    }
   ],
   "source": [
    "selfVoice = drawer(selfVoiceMocker)"
   ]
  },
  {
   "cell_type": "code",
   "execution_count": 10,
   "metadata": {},
   "outputs": [
    {
     "data": {
      "image/png": "[encoded data removed]",
      "text/plain": [
       "<Figure size 432x288 with 1 Axes>"
      ]
     },
     "metadata": {
      "needs_background": "light"
     },
     "output_type": "display_data"
    },
    {
     "data": {
      "image/png": "[encoded data removed]",
      "text/plain": [
       "<Figure size 432x288 with 1 Axes>"
      ]
     },
     "metadata": {
      "needs_background": "light"
     },
     "output_type": "display_data"
    },
    {
     "data": {
      "image/png": "[encoded data removed]",
      "text/plain": [
       "<Figure size 432x288 with 1 Axes>"
      ]
     },
     "metadata": {
      "needs_background": "light"
     },
     "output_type": "display_data"
    },
    {
     "data": {
      "image/png": "[encoded data removed]",
      "text/plain": [
       "<Figure size 432x288 with 1 Axes>"
      ]
     },
     "metadata": {
      "needs_background": "light"
     },
     "output_type": "display_data"
    }
   ],
   "source": [
    "autoDevice = drawer(autoDeviceMocker)"
   ]
  },
  {
   "cell_type": "code",
   "execution_count": 17,
   "metadata": {},
   "outputs": [
    {
     "data": {
      "image/png": "[encoded data removed]",
      "text/plain": [
       "<Figure size 432x288 with 1 Axes>"
      ]
     },
     "metadata": {
      "needs_background": "light"
     },
     "output_type": "display_data"
    },
    {
     "data": {
      "image/png": "[encoded data removed]",
      "text/plain": [
       "<Figure size 432x288 with 1 Axes>"
      ]
     },
     "metadata": {
      "needs_background": "light"
     },
     "output_type": "display_data"
    },
    {
     "data": {
      "image/png": "[encoded data removed]",
      "text/plain": [
       "<Figure size 432x288 with 1 Axes>"
      ]
     },
     "metadata": {
      "needs_background": "light"
     },
     "output_type": "display_data"
    },
    {
     "data": {
      "image/png": "[encoded data removed]",
      "text/plain": [
       "<Figure size 432x288 with 1 Axes>"
      ]
     },
     "metadata": {
      "needs_background": "light"
     },
     "output_type": "display_data"
    }
   ],
   "source": [
    "selfDevice = drawer(selfDeviceMocker)"
   ]
  }
 ],
 "metadata": {
  "interpreter": {
   "hash": "dabd46d0b105194b6037154245f7bac3849b5735b43b605ee603f76a866d6105"
  },
  "kernelspec": {
   "display_name": "Python 3",
   "language": "python",
   "name": "python3"
  },
  "language_info": {
   "codemirror_mode": {
    "name": "ipython",
    "version": 3
   },
   "file_extension": ".py",
   "mimetype": "text/x-python",
   "name": "python",
   "nbconvert_exporter": "python",
   "pygments_lexer": "ipython3",
   "version": "3.8.8"
  },
  "latex_envs": {
   "LaTeX_envs_menu_present": true,
   "autoclose": false,
   "autocomplete": true,
   "bibliofile": "biblio.bib",
   "cite_by": "apalike",
   "current_citInitial": 1,
   "eqLabelWithNumbers": true,
   "eqNumInitial": 1,
   "hotkeys": {
    "equation": "Ctrl-E",
    "itemize": "Ctrl-I"
   },
   "labels_anchors": false,
   "latex_user_defs": false,
   "report_style_numbering": false,
   "user_envs_cfg": false
  },
  "nbTranslate": {
   "displayLangs": [
    "*"
   ],
   "hotkey": "alt-t",
   "langInMainMenu": true,
   "sourceLang": "en",
   "targetLang": "fr",
   "useGoogleTranslate": true
  }
 },
 "nbformat": 4,
 "nbformat_minor": 2
}
